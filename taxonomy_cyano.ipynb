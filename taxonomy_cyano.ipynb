{
  "nbformat": 4,
  "nbformat_minor": 0,
  "metadata": {
    "colab": {
      "name": "taxonomy_cyano.ipynb",
      "provenance": [],
      "collapsed_sections": []
    },
    "kernelspec": {
      "name": "python3",
      "display_name": "Python 3"
    },
    "language_info": {
      "name": "python"
    }
  },
  "cells": [
    {
      "cell_type": "code",
      "metadata": {
        "colab": {
          "base_uri": "https://localhost:8080/"
        },
        "id": "MZRHY6zHX2oc",
        "outputId": "47ef218d-e564-49b8-cbeb-4fdb55884154"
      },
      "source": [
        "!pip install umap-learn\n",
        "!pip install umap-learn[plot]\n",
        "!pip install Bio"
      ],
      "execution_count": null,
      "outputs": [
        {
          "output_type": "stream",
          "text": [
            "Collecting umap-learn\n",
            "\u001b[?25l  Downloading https://files.pythonhosted.org/packages/75/69/85e7f950bb75792ad5d666d86c5f3e62eedbb942848e7e3126513af9999c/umap-learn-0.5.1.tar.gz (80kB)\n",
            "\u001b[K     |████████████████████████████████| 81kB 2.5MB/s \n",
            "\u001b[?25hRequirement already satisfied: numpy>=1.17 in /usr/local/lib/python3.7/dist-packages (from umap-learn) (1.19.5)\n",
            "Requirement already satisfied: scikit-learn>=0.22 in /usr/local/lib/python3.7/dist-packages (from umap-learn) (0.22.2.post1)\n",
            "Requirement already satisfied: scipy>=1.0 in /usr/local/lib/python3.7/dist-packages (from umap-learn) (1.4.1)\n",
            "Requirement already satisfied: numba>=0.49 in /usr/local/lib/python3.7/dist-packages (from umap-learn) (0.51.2)\n",
            "Collecting pynndescent>=0.5\n",
            "\u001b[?25l  Downloading https://files.pythonhosted.org/packages/af/65/8189298dd3a05bbad716ee8e249764ff8800e365d8dc652ad2192ca01b4a/pynndescent-0.5.2.tar.gz (1.1MB)\n",
            "\u001b[K     |████████████████████████████████| 1.2MB 5.9MB/s \n",
            "\u001b[?25hRequirement already satisfied: joblib>=0.11 in /usr/local/lib/python3.7/dist-packages (from scikit-learn>=0.22->umap-learn) (1.0.1)\n",
            "Requirement already satisfied: llvmlite<0.35,>=0.34.0.dev0 in /usr/local/lib/python3.7/dist-packages (from numba>=0.49->umap-learn) (0.34.0)\n",
            "Requirement already satisfied: setuptools in /usr/local/lib/python3.7/dist-packages (from numba>=0.49->umap-learn) (56.1.0)\n",
            "Building wheels for collected packages: umap-learn, pynndescent\n",
            "  Building wheel for umap-learn (setup.py) ... \u001b[?25l\u001b[?25hdone\n",
            "  Created wheel for umap-learn: filename=umap_learn-0.5.1-cp37-none-any.whl size=76569 sha256=e075a87eea0a22aaac57cc3696367c9f6d8737524328e3a51c40ef3d1a9cf366\n",
            "  Stored in directory: /root/.cache/pip/wheels/ad/df/d5/a3691296ff779f25cd1cf415a3af954b987fb53111e3392cf4\n",
            "  Building wheel for pynndescent (setup.py) ... \u001b[?25l\u001b[?25hdone\n",
            "  Created wheel for pynndescent: filename=pynndescent-0.5.2-cp37-none-any.whl size=51351 sha256=77b2f1e9259ac3063e1f26257dfbaf857e9e1bb708ba471f1ab49207df330390\n",
            "  Stored in directory: /root/.cache/pip/wheels/ba/52/4e/4c28d04d144a28f89e2575fb63628df6e6d49b56c5ddd0c74e\n",
            "Successfully built umap-learn pynndescent\n",
            "Installing collected packages: pynndescent, umap-learn\n",
            "Successfully installed pynndescent-0.5.2 umap-learn-0.5.1\n",
            "Requirement already satisfied: umap-learn[plot] in /usr/local/lib/python3.7/dist-packages (0.5.1)\n",
            "Requirement already satisfied: scipy>=1.0 in /usr/local/lib/python3.7/dist-packages (from umap-learn[plot]) (1.4.1)\n",
            "Requirement already satisfied: numpy>=1.17 in /usr/local/lib/python3.7/dist-packages (from umap-learn[plot]) (1.19.5)\n",
            "Requirement already satisfied: pynndescent>=0.5 in /usr/local/lib/python3.7/dist-packages (from umap-learn[plot]) (0.5.2)\n",
            "Requirement already satisfied: scikit-learn>=0.22 in /usr/local/lib/python3.7/dist-packages (from umap-learn[plot]) (0.22.2.post1)\n",
            "Requirement already satisfied: numba>=0.49 in /usr/local/lib/python3.7/dist-packages (from umap-learn[plot]) (0.51.2)\n",
            "Requirement already satisfied: bokeh; extra == \"plot\" in /usr/local/lib/python3.7/dist-packages (from umap-learn[plot]) (2.3.2)\n",
            "Requirement already satisfied: colorcet; extra == \"plot\" in /usr/local/lib/python3.7/dist-packages (from umap-learn[plot]) (2.0.6)\n",
            "Requirement already satisfied: matplotlib; extra == \"plot\" in /usr/local/lib/python3.7/dist-packages (from umap-learn[plot]) (3.2.2)\n",
            "Requirement already satisfied: pandas; extra == \"plot\" in /usr/local/lib/python3.7/dist-packages (from umap-learn[plot]) (1.1.5)\n",
            "Requirement already satisfied: holoviews; extra == \"plot\" in /usr/local/lib/python3.7/dist-packages (from umap-learn[plot]) (1.14.3)\n",
            "Requirement already satisfied: scikit-image; extra == \"plot\" in /usr/local/lib/python3.7/dist-packages (from umap-learn[plot]) (0.16.2)\n",
            "Collecting datashader; extra == \"plot\"\n",
            "\u001b[?25l  Downloading https://files.pythonhosted.org/packages/df/24/22f96084785d9cc424f1e70541a2803eec807c82e6bdab87c4b71fd96d10/datashader-0.12.1-py2.py3-none-any.whl (15.8MB)\n",
            "\u001b[K     |████████████████████████████████| 15.8MB 198kB/s \n",
            "\u001b[?25hRequirement already satisfied: seaborn; extra == \"plot\" in /usr/local/lib/python3.7/dist-packages (from umap-learn[plot]) (0.11.1)\n",
            "Requirement already satisfied: joblib>=0.11 in /usr/local/lib/python3.7/dist-packages (from pynndescent>=0.5->umap-learn[plot]) (1.0.1)\n",
            "Requirement already satisfied: llvmlite>=0.30 in /usr/local/lib/python3.7/dist-packages (from pynndescent>=0.5->umap-learn[plot]) (0.34.0)\n",
            "Requirement already satisfied: setuptools in /usr/local/lib/python3.7/dist-packages (from numba>=0.49->umap-learn[plot]) (56.1.0)\n",
            "Requirement already satisfied: packaging>=16.8 in /usr/local/lib/python3.7/dist-packages (from bokeh; extra == \"plot\"->umap-learn[plot]) (20.9)\n",
            "Requirement already satisfied: python-dateutil>=2.1 in /usr/local/lib/python3.7/dist-packages (from bokeh; extra == \"plot\"->umap-learn[plot]) (2.8.1)\n",
            "Requirement already satisfied: typing-extensions>=3.7.4 in /usr/local/lib/python3.7/dist-packages (from bokeh; extra == \"plot\"->umap-learn[plot]) (3.7.4.3)\n",
            "Requirement already satisfied: pillow>=7.1.0 in /usr/local/lib/python3.7/dist-packages (from bokeh; extra == \"plot\"->umap-learn[plot]) (7.1.2)\n",
            "Requirement already satisfied: PyYAML>=3.10 in /usr/local/lib/python3.7/dist-packages (from bokeh; extra == \"plot\"->umap-learn[plot]) (3.13)\n",
            "Requirement already satisfied: tornado>=5.1 in /usr/local/lib/python3.7/dist-packages (from bokeh; extra == \"plot\"->umap-learn[plot]) (5.1.1)\n",
            "Requirement already satisfied: Jinja2>=2.9 in /usr/local/lib/python3.7/dist-packages (from bokeh; extra == \"plot\"->umap-learn[plot]) (2.11.3)\n",
            "Requirement already satisfied: param>=1.7.0 in /usr/local/lib/python3.7/dist-packages (from colorcet; extra == \"plot\"->umap-learn[plot]) (1.10.1)\n",
            "Requirement already satisfied: pyct>=0.4.4 in /usr/local/lib/python3.7/dist-packages (from colorcet; extra == \"plot\"->umap-learn[plot]) (0.4.8)\n",
            "Requirement already satisfied: cycler>=0.10 in /usr/local/lib/python3.7/dist-packages (from matplotlib; extra == \"plot\"->umap-learn[plot]) (0.10.0)\n",
            "Requirement already satisfied: pyparsing!=2.0.4,!=2.1.2,!=2.1.6,>=2.0.1 in /usr/local/lib/python3.7/dist-packages (from matplotlib; extra == \"plot\"->umap-learn[plot]) (2.4.7)\n",
            "Requirement already satisfied: kiwisolver>=1.0.1 in /usr/local/lib/python3.7/dist-packages (from matplotlib; extra == \"plot\"->umap-learn[plot]) (1.3.1)\n",
            "Requirement already satisfied: pytz>=2017.2 in /usr/local/lib/python3.7/dist-packages (from pandas; extra == \"plot\"->umap-learn[plot]) (2018.9)\n",
            "Requirement already satisfied: panel>=0.8.0 in /usr/local/lib/python3.7/dist-packages (from holoviews; extra == \"plot\"->umap-learn[plot]) (0.11.3)\n",
            "Requirement already satisfied: pyviz-comms>=0.7.4 in /usr/local/lib/python3.7/dist-packages (from holoviews; extra == \"plot\"->umap-learn[plot]) (2.0.1)\n",
            "Requirement already satisfied: PyWavelets>=0.4.0 in /usr/local/lib/python3.7/dist-packages (from scikit-image; extra == \"plot\"->umap-learn[plot]) (1.1.1)\n",
            "Requirement already satisfied: imageio>=2.3.0 in /usr/local/lib/python3.7/dist-packages (from scikit-image; extra == \"plot\"->umap-learn[plot]) (2.4.1)\n",
            "Requirement already satisfied: networkx>=2.0 in /usr/local/lib/python3.7/dist-packages (from scikit-image; extra == \"plot\"->umap-learn[plot]) (2.5.1)\n",
            "Requirement already satisfied: toolz>=0.7.4 in /usr/local/lib/python3.7/dist-packages (from datashader; extra == \"plot\"->umap-learn[plot]) (0.11.1)\n",
            "Requirement already satisfied: xarray>=0.9.6 in /usr/local/lib/python3.7/dist-packages (from datashader; extra == \"plot\"->umap-learn[plot]) (0.18.0)\n",
            "Requirement already satisfied: dask[complete]>=0.18.0 in /usr/local/lib/python3.7/dist-packages (from datashader; extra == \"plot\"->umap-learn[plot]) (2.12.0)\n",
            "Collecting datashape>=0.5.1\n",
            "\u001b[?25l  Downloading https://files.pythonhosted.org/packages/a6/5b/95b2ed56b61e649b69c9a5b1ecb32ff0a5cd68b9f69f5aa7774540e6b444/datashape-0.5.2.tar.gz (76kB)\n",
            "\u001b[K     |████████████████████████████████| 81kB 5.0MB/s \n",
            "\u001b[?25hRequirement already satisfied: six>=1.5 in /usr/local/lib/python3.7/dist-packages (from python-dateutil>=2.1->bokeh; extra == \"plot\"->umap-learn[plot]) (1.15.0)\n",
            "Requirement already satisfied: MarkupSafe>=0.23 in /usr/local/lib/python3.7/dist-packages (from Jinja2>=2.9->bokeh; extra == \"plot\"->umap-learn[plot]) (1.1.1)\n",
            "Requirement already satisfied: markdown in /usr/local/lib/python3.7/dist-packages (from panel>=0.8.0->holoviews; extra == \"plot\"->umap-learn[plot]) (3.3.4)\n",
            "Requirement already satisfied: tqdm in /usr/local/lib/python3.7/dist-packages (from panel>=0.8.0->holoviews; extra == \"plot\"->umap-learn[plot]) (4.41.1)\n",
            "Requirement already satisfied: requests in /usr/local/lib/python3.7/dist-packages (from panel>=0.8.0->holoviews; extra == \"plot\"->umap-learn[plot]) (2.23.0)\n",
            "Requirement already satisfied: decorator<5,>=4.3 in /usr/local/lib/python3.7/dist-packages (from networkx>=2.0->scikit-image; extra == \"plot\"->umap-learn[plot]) (4.4.2)\n",
            "Collecting fsspec>=0.6.0; extra == \"complete\"\n",
            "\u001b[?25l  Downloading https://files.pythonhosted.org/packages/e9/91/2ef649137816850fa4f4c97c6f2eabb1a79bf0aa2c8ed198e387e373455e/fsspec-2021.4.0-py3-none-any.whl (108kB)\n",
            "\u001b[K     |████████████████████████████████| 112kB 37.9MB/s \n",
            "\u001b[?25hCollecting partd>=0.3.10; extra == \"complete\"\n",
            "  Downloading https://files.pythonhosted.org/packages/41/94/360258a68b55f47859d72b2d0b2b3cfe0ca4fbbcb81b78812bd00ae86b7c/partd-1.2.0-py3-none-any.whl\n",
            "Collecting distributed>=2.0; extra == \"complete\"\n",
            "\u001b[?25l  Downloading https://files.pythonhosted.org/packages/63/f8/ac2c18adde6477bca3881c4d3cfa74c7f4da7ee82f3c83c201aa3b9ca5ee/distributed-2021.4.1-py3-none-any.whl (696kB)\n",
            "\u001b[K     |████████████████████████████████| 706kB 27.0MB/s \n",
            "\u001b[?25hRequirement already satisfied: cloudpickle>=0.2.1; extra == \"complete\" in /usr/local/lib/python3.7/dist-packages (from dask[complete]>=0.18.0->datashader; extra == \"plot\"->umap-learn[plot]) (1.3.0)\n",
            "Collecting multipledispatch>=0.4.7\n",
            "  Downloading https://files.pythonhosted.org/packages/89/79/429ecef45fd5e4504f7474d4c3c3c4668c267be3370e4c2fd33e61506833/multipledispatch-0.6.0-py3-none-any.whl\n",
            "Requirement already satisfied: importlib-metadata; python_version < \"3.8\" in /usr/local/lib/python3.7/dist-packages (from markdown->panel>=0.8.0->holoviews; extra == \"plot\"->umap-learn[plot]) (4.0.1)\n",
            "Requirement already satisfied: idna<3,>=2.5 in /usr/local/lib/python3.7/dist-packages (from requests->panel>=0.8.0->holoviews; extra == \"plot\"->umap-learn[plot]) (2.10)\n",
            "Requirement already satisfied: chardet<4,>=3.0.2 in /usr/local/lib/python3.7/dist-packages (from requests->panel>=0.8.0->holoviews; extra == \"plot\"->umap-learn[plot]) (3.0.4)\n",
            "Requirement already satisfied: certifi>=2017.4.17 in /usr/local/lib/python3.7/dist-packages (from requests->panel>=0.8.0->holoviews; extra == \"plot\"->umap-learn[plot]) (2020.12.5)\n",
            "Requirement already satisfied: urllib3!=1.25.0,!=1.25.1,<1.26,>=1.21.1 in /usr/local/lib/python3.7/dist-packages (from requests->panel>=0.8.0->holoviews; extra == \"plot\"->umap-learn[plot]) (1.24.3)\n",
            "Collecting locket\n",
            "  Downloading https://files.pythonhosted.org/packages/50/b8/e789e45b9b9c2db75e9d9e6ceb022c8d1d7e49b2c085ce8c05600f90a96b/locket-0.2.1-py2.py3-none-any.whl\n",
            "Requirement already satisfied: click>=6.6 in /usr/local/lib/python3.7/dist-packages (from distributed>=2.0; extra == \"complete\"->dask[complete]>=0.18.0->datashader; extra == \"plot\"->umap-learn[plot]) (7.1.2)\n",
            "Requirement already satisfied: psutil>=5.0 in /usr/local/lib/python3.7/dist-packages (from distributed>=2.0; extra == \"complete\"->dask[complete]>=0.18.0->datashader; extra == \"plot\"->umap-learn[plot]) (5.4.8)\n",
            "Requirement already satisfied: sortedcontainers!=2.0.0,!=2.0.1 in /usr/local/lib/python3.7/dist-packages (from distributed>=2.0; extra == \"complete\"->dask[complete]>=0.18.0->datashader; extra == \"plot\"->umap-learn[plot]) (2.3.0)\n",
            "Requirement already satisfied: msgpack>=0.6.0 in /usr/local/lib/python3.7/dist-packages (from distributed>=2.0; extra == \"complete\"->dask[complete]>=0.18.0->datashader; extra == \"plot\"->umap-learn[plot]) (1.0.2)\n",
            "Requirement already satisfied: zict>=0.1.3 in /usr/local/lib/python3.7/dist-packages (from distributed>=2.0; extra == \"complete\"->dask[complete]>=0.18.0->datashader; extra == \"plot\"->umap-learn[plot]) (2.0.0)\n",
            "Requirement already satisfied: tblib>=1.6.0 in /usr/local/lib/python3.7/dist-packages (from distributed>=2.0; extra == \"complete\"->dask[complete]>=0.18.0->datashader; extra == \"plot\"->umap-learn[plot]) (1.7.0)\n",
            "Requirement already satisfied: zipp>=0.5 in /usr/local/lib/python3.7/dist-packages (from importlib-metadata; python_version < \"3.8\"->markdown->panel>=0.8.0->holoviews; extra == \"plot\"->umap-learn[plot]) (3.4.1)\n",
            "Requirement already satisfied: heapdict in /usr/local/lib/python3.7/dist-packages (from zict>=0.1.3->distributed>=2.0; extra == \"complete\"->dask[complete]>=0.18.0->datashader; extra == \"plot\"->umap-learn[plot]) (1.0.1)\n",
            "Building wheels for collected packages: datashape\n",
            "  Building wheel for datashape (setup.py) ... \u001b[?25l\u001b[?25hdone\n",
            "  Created wheel for datashape: filename=datashape-0.5.2-cp37-none-any.whl size=59430 sha256=98f74333646cd65fd117d89ca5679a0e98369775d3f32f2f2381d759d401c209\n",
            "  Stored in directory: /root/.cache/pip/wheels/8d/06/05/c1cba3d57bdcfd3960e3f60a9fdc97e4baef2ef09af0ad1ef8\n",
            "Successfully built datashape\n",
            "\u001b[31mERROR: distributed 2021.4.1 has requirement cloudpickle>=1.5.0, but you'll have cloudpickle 1.3.0 which is incompatible.\u001b[0m\n",
            "\u001b[31mERROR: distributed 2021.4.1 has requirement dask>=2021.03.0, but you'll have dask 2.12.0 which is incompatible.\u001b[0m\n",
            "Installing collected packages: multipledispatch, datashape, datashader, fsspec, locket, partd, distributed\n",
            "  Found existing installation: distributed 1.25.3\n",
            "    Uninstalling distributed-1.25.3:\n",
            "      Successfully uninstalled distributed-1.25.3\n",
            "Successfully installed datashader-0.12.1 datashape-0.5.2 distributed-2021.4.1 fsspec-2021.4.0 locket-0.2.1 multipledispatch-0.6.0 partd-1.2.0\n",
            "Collecting Bio\n",
            "\u001b[?25l  Downloading https://files.pythonhosted.org/packages/85/84/13d3aa585fcaa010577cfdc40f3211933fa4468e98f8e63576066b2a7ad1/bio-0.4.1-py3-none-any.whl (73kB)\n",
            "\u001b[K     |████████████████████████████████| 81kB 2.4MB/s \n",
            "\u001b[?25hRequirement already satisfied: requests in /usr/local/lib/python3.7/dist-packages (from Bio) (2.23.0)\n",
            "Requirement already satisfied: numpy<1.20 in /usr/local/lib/python3.7/dist-packages (from Bio) (1.19.5)\n",
            "Collecting biopython>=1.78\n",
            "\u001b[?25l  Downloading https://files.pythonhosted.org/packages/3a/cd/0098eaff841850c01da928c7f509b72fd3e1f51d77b772e24de9e2312471/biopython-1.78-cp37-cp37m-manylinux1_x86_64.whl (2.3MB)\n",
            "\u001b[K     |████████████████████████████████| 2.3MB 5.2MB/s \n",
            "\u001b[?25hRequirement already satisfied: urllib3!=1.25.0,!=1.25.1,<1.26,>=1.21.1 in /usr/local/lib/python3.7/dist-packages (from requests->Bio) (1.24.3)\n",
            "Requirement already satisfied: certifi>=2017.4.17 in /usr/local/lib/python3.7/dist-packages (from requests->Bio) (2020.12.5)\n",
            "Requirement already satisfied: chardet<4,>=3.0.2 in /usr/local/lib/python3.7/dist-packages (from requests->Bio) (3.0.4)\n",
            "Requirement already satisfied: idna<3,>=2.5 in /usr/local/lib/python3.7/dist-packages (from requests->Bio) (2.10)\n",
            "Installing collected packages: biopython, Bio\n",
            "Successfully installed Bio-0.4.1 biopython-1.78\n"
          ],
          "name": "stdout"
        }
      ]
    },
    {
      "cell_type": "code",
      "metadata": {
        "id": "UxBETzLpS7MC"
      },
      "source": [
        "import pandas as pd\n",
        "import numpy as np\n",
        "import matplotlib.pyplot as plt\n",
        "import seaborn as sns\n",
        "%matplotlib inline\n",
        "\n",
        "from sklearn.feature_extraction.text import CountVectorizer\n",
        "from gensim.test.utils import common_texts\n",
        "from gensim.models import Word2Vec\n",
        "from sklearn.metrics.pairwise import cosine_similarity\n",
        "from sklearn.decomposition import PCA\n",
        "from sklearn.manifold import TSNE\n",
        "import umap\n",
        "import umap.plot\n",
        "\n",
        "from sklearn.model_selection import train_test_split\n",
        "from sklearn.naive_bayes import MultinomialNB\n",
        "from sklearn.metrics import accuracy_score, f1_score, precision_score, recall_score\n",
        "\n",
        "# Resources used to create code:\n",
        "# https://github.com/aviolante/sas-python-work/blob/master/tSneExampleBlogPost.ipynb\n",
        "# https://towardsdatascience.com/pca-using-python-scikit-learn-e653f8989e60\n",
        "# https://towardsdatascience.com/visualising-high-dimensional-datasets-using-pca-and-t-sne-in-python-8ef87e7915b"
      ],
      "execution_count": null,
      "outputs": []
    },
    {
      "cell_type": "code",
      "metadata": {
        "id": "_Lvh2VXdTDUw"
      },
      "source": [
        "# getKmers() function adapted from Worksheet 3\n",
        "def getKmers(sequence, sizek):\n",
        "    return ' '.join([sequence[x:x+sizek].lower() for x in range(len(sequence) - sizek + 1)])"
      ],
      "execution_count": null,
      "outputs": []
    },
    {
      "cell_type": "code",
      "metadata": {
        "colab": {
          "base_uri": "https://localhost:8080/",
          "height": 626
        },
        "id": "PFM6ae64TUOw",
        "outputId": "1e4306d5-9eaf-404c-d08e-1e1206875b12"
      },
      "source": [
        "# Load data\n",
        "full_df = pd.read_csv('https://raw.githubusercontent.com/rcodipilly/ML-Taxonomy-classification-with-16S/master/sequences_cyano.csv')\n",
        "full_df"
      ],
      "execution_count": null,
      "outputs": [
        {
          "output_type": "execute_result",
          "data": {
            "text/html": [
              "<div>\n",
              "<style scoped>\n",
              "    .dataframe tbody tr th:only-of-type {\n",
              "        vertical-align: middle;\n",
              "    }\n",
              "\n",
              "    .dataframe tbody tr th {\n",
              "        vertical-align: top;\n",
              "    }\n",
              "\n",
              "    .dataframe thead th {\n",
              "        text-align: right;\n",
              "    }\n",
              "</style>\n",
              "<table border=\"1\" class=\"dataframe\">\n",
              "  <thead>\n",
              "    <tr style=\"text-align: right;\">\n",
              "      <th></th>\n",
              "      <th>Unnamed: 0</th>\n",
              "      <th>sequence_name</th>\n",
              "      <th>domain</th>\n",
              "      <th>phylum</th>\n",
              "      <th>class</th>\n",
              "      <th>order</th>\n",
              "      <th>family</th>\n",
              "      <th>genus</th>\n",
              "      <th>species</th>\n",
              "      <th>location</th>\n",
              "      <th>ssu_length</th>\n",
              "      <th>contig_length</th>\n",
              "      <th>sequence</th>\n",
              "    </tr>\n",
              "  </thead>\n",
              "  <tbody>\n",
              "    <tr>\n",
              "      <th>0</th>\n",
              "      <td>363497</td>\n",
              "      <td>&gt;RS_GCF_002252665.1~NZ_NQKZ01000036.1</td>\n",
              "      <td>Bacteria</td>\n",
              "      <td>Cyanobacteria</td>\n",
              "      <td>Cyanobacteriia</td>\n",
              "      <td>PCC-6307</td>\n",
              "      <td>Cyanobiaceae</td>\n",
              "      <td>Cyanobium_A</td>\n",
              "      <td>Cyanobium_A sp002252665</td>\n",
              "      <td>[location=4190..5670]</td>\n",
              "      <td>[ssu_len=1480]</td>\n",
              "      <td>[contig_len=6120]</td>\n",
              "      <td>GAGGTGATCCAGCCGCACCTTCCGGTACGGCTACCTTGTTACGACT...</td>\n",
              "    </tr>\n",
              "    <tr>\n",
              "      <th>1</th>\n",
              "      <td>365444</td>\n",
              "      <td>&gt;RS_GCF_900088535.1~NZ_LT578417.1</td>\n",
              "      <td>Bacteria</td>\n",
              "      <td>Cyanobacteria</td>\n",
              "      <td>Cyanobacteriia</td>\n",
              "      <td>PCC-6307</td>\n",
              "      <td>Cyanobiaceae</td>\n",
              "      <td>Cyanobium_A</td>\n",
              "      <td>Cyanobium_A sp900088535</td>\n",
              "      <td>[location=1568415..1569895]</td>\n",
              "      <td>[ssu_len=1480]</td>\n",
              "      <td>[contig_len=3021545]</td>\n",
              "      <td>GAGGTGATCCAGCCGCACCTTCCGGTACGGCTACCTTGTTACGACT...</td>\n",
              "    </tr>\n",
              "    <tr>\n",
              "      <th>2</th>\n",
              "      <td>365445</td>\n",
              "      <td>&gt;RS_GCF_900088535.1~NZ_LT578417.1-#2</td>\n",
              "      <td>Bacteria</td>\n",
              "      <td>Cyanobacteria</td>\n",
              "      <td>Cyanobacteriia</td>\n",
              "      <td>PCC-6307</td>\n",
              "      <td>Cyanobiaceae</td>\n",
              "      <td>Cyanobium_A</td>\n",
              "      <td>Cyanobium_A sp900088535</td>\n",
              "      <td>[location=2822132..2823612]</td>\n",
              "      <td>[ssu_len=1480]</td>\n",
              "      <td>[contig_len=3021545]</td>\n",
              "      <td>GAGGTGATCCAGCCGCACCTTCCGGTACGGCTACCTTGTTACGACT...</td>\n",
              "    </tr>\n",
              "    <tr>\n",
              "      <th>3</th>\n",
              "      <td>365446</td>\n",
              "      <td>&gt;RS_GCF_900088535.1~NZ_LT578417.1-#3</td>\n",
              "      <td>Bacteria</td>\n",
              "      <td>Cyanobacteria</td>\n",
              "      <td>Cyanobacteriia</td>\n",
              "      <td>PCC-6307</td>\n",
              "      <td>Cyanobiaceae</td>\n",
              "      <td>Cyanobium_A</td>\n",
              "      <td>Cyanobium_A sp900088535</td>\n",
              "      <td>[location=1..1447]</td>\n",
              "      <td>[ssu_len=1446]</td>\n",
              "      <td>[contig_len=3021545]</td>\n",
              "      <td>CGGCGTGCTTAACACATGCAAGTCGAACGCACCTTCGGGTGAGTGG...</td>\n",
              "    </tr>\n",
              "    <tr>\n",
              "      <th>4</th>\n",
              "      <td>368404</td>\n",
              "      <td>&gt;RS_GCF_000155635.1~NZ_DS990556.1</td>\n",
              "      <td>Bacteria</td>\n",
              "      <td>Cyanobacteria</td>\n",
              "      <td>Cyanobacteriia</td>\n",
              "      <td>PCC-6307</td>\n",
              "      <td>Cyanobiaceae</td>\n",
              "      <td>Cyanobium_A</td>\n",
              "      <td>Cyanobium_A sp000155635</td>\n",
              "      <td>[location=2362934..2364414]</td>\n",
              "      <td>[ssu_len=1480]</td>\n",
              "      <td>[contig_len=2832412]</td>\n",
              "      <td>GGAGAGTTTGATCCTGGCTCAGGATGAACGCTGGCGGCGTGCTTAA...</td>\n",
              "    </tr>\n",
              "    <tr>\n",
              "      <th>...</th>\n",
              "      <td>...</td>\n",
              "      <td>...</td>\n",
              "      <td>...</td>\n",
              "      <td>...</td>\n",
              "      <td>...</td>\n",
              "      <td>...</td>\n",
              "      <td>...</td>\n",
              "      <td>...</td>\n",
              "      <td>...</td>\n",
              "      <td>...</td>\n",
              "      <td>...</td>\n",
              "      <td>...</td>\n",
              "      <td>...</td>\n",
              "    </tr>\n",
              "    <tr>\n",
              "      <th>178</th>\n",
              "      <td>359903</td>\n",
              "      <td>&gt;RS_GCF_000153045.1~NZ_CH724159.1</td>\n",
              "      <td>Bacteria</td>\n",
              "      <td>Cyanobacteria</td>\n",
              "      <td>Cyanobacteriia</td>\n",
              "      <td>PCC-6307</td>\n",
              "      <td>Cyanobiaceae</td>\n",
              "      <td>WH-5701</td>\n",
              "      <td>WH-5701 sp000153045</td>\n",
              "      <td>[location=574..2054]</td>\n",
              "      <td>[ssu_len=1480]</td>\n",
              "      <td>[contig_len=1792002]</td>\n",
              "      <td>GGAGAGTTTGATCCTGGCTCAGGATGAACGCTGGCGGCGTGCTTAA...</td>\n",
              "    </tr>\n",
              "    <tr>\n",
              "      <th>179</th>\n",
              "      <td>359904</td>\n",
              "      <td>&gt;RS_GCF_000153045.1~NZ_CH724160.1-#2</td>\n",
              "      <td>Bacteria</td>\n",
              "      <td>Cyanobacteria</td>\n",
              "      <td>Cyanobacteriia</td>\n",
              "      <td>PCC-6307</td>\n",
              "      <td>Cyanobiaceae</td>\n",
              "      <td>WH-5701</td>\n",
              "      <td>WH-5701 sp000153045</td>\n",
              "      <td>[location=1818..3298]</td>\n",
              "      <td>[ssu_len=1480]</td>\n",
              "      <td>[contig_len=1068361]</td>\n",
              "      <td>GAGGTGATCCAGCCGCACCTTCCGGTACGGCTACCTTGTTACGACT...</td>\n",
              "    </tr>\n",
              "    <tr>\n",
              "      <th>180</th>\n",
              "      <td>368983</td>\n",
              "      <td>&gt;RS_GCF_002252625.1~NZ_NQKW01000044.1</td>\n",
              "      <td>Bacteria</td>\n",
              "      <td>Cyanobacteria</td>\n",
              "      <td>Cyanobacteriia</td>\n",
              "      <td>PCC-6307</td>\n",
              "      <td>Cyanobiaceae</td>\n",
              "      <td>WH-5701</td>\n",
              "      <td>WH-5701 sp002252625</td>\n",
              "      <td>[location=4067..5547]</td>\n",
              "      <td>[ssu_len=1480]</td>\n",
              "      <td>[contig_len=6258]</td>\n",
              "      <td>GAGGTGATCCAGCCGCACCTTCCGGTACGGCTACCTTGTTACGACT...</td>\n",
              "    </tr>\n",
              "    <tr>\n",
              "      <th>181</th>\n",
              "      <td>373396</td>\n",
              "      <td>&gt;RS_GCF_001885215.1~NZ_CP018091.1-#2</td>\n",
              "      <td>Bacteria</td>\n",
              "      <td>Cyanobacteria</td>\n",
              "      <td>Cyanobacteriia</td>\n",
              "      <td>PCC-6307</td>\n",
              "      <td>Cyanobiaceae</td>\n",
              "      <td>WH-5701</td>\n",
              "      <td>WH-5701 sp001885215</td>\n",
              "      <td>[location=800674..802154]</td>\n",
              "      <td>[ssu_len=1480]</td>\n",
              "      <td>[contig_len=2750634]</td>\n",
              "      <td>GAGGTGATCCAGCCGCACCTTCCGGTACGGCTACCTTGTTACGACT...</td>\n",
              "    </tr>\n",
              "    <tr>\n",
              "      <th>182</th>\n",
              "      <td>373397</td>\n",
              "      <td>&gt;RS_GCF_001885215.1~NZ_CP018091.1</td>\n",
              "      <td>Bacteria</td>\n",
              "      <td>Cyanobacteria</td>\n",
              "      <td>Cyanobacteriia</td>\n",
              "      <td>PCC-6307</td>\n",
              "      <td>Cyanobiaceae</td>\n",
              "      <td>WH-5701</td>\n",
              "      <td>WH-5701 sp001885215</td>\n",
              "      <td>[location=1802586..1804065]</td>\n",
              "      <td>[ssu_len=1479]</td>\n",
              "      <td>[contig_len=2750634]</td>\n",
              "      <td>GGAGAGTTTGATCCTGGCTCAGGATGAACGCTGGCGGCGTGCTTAA...</td>\n",
              "    </tr>\n",
              "  </tbody>\n",
              "</table>\n",
              "<p>183 rows × 13 columns</p>\n",
              "</div>"
            ],
            "text/plain": [
              "     Unnamed: 0  ...                                           sequence\n",
              "0        363497  ...  GAGGTGATCCAGCCGCACCTTCCGGTACGGCTACCTTGTTACGACT...\n",
              "1        365444  ...  GAGGTGATCCAGCCGCACCTTCCGGTACGGCTACCTTGTTACGACT...\n",
              "2        365445  ...  GAGGTGATCCAGCCGCACCTTCCGGTACGGCTACCTTGTTACGACT...\n",
              "3        365446  ...  CGGCGTGCTTAACACATGCAAGTCGAACGCACCTTCGGGTGAGTGG...\n",
              "4        368404  ...  GGAGAGTTTGATCCTGGCTCAGGATGAACGCTGGCGGCGTGCTTAA...\n",
              "..          ...  ...                                                ...\n",
              "178      359903  ...  GGAGAGTTTGATCCTGGCTCAGGATGAACGCTGGCGGCGTGCTTAA...\n",
              "179      359904  ...  GAGGTGATCCAGCCGCACCTTCCGGTACGGCTACCTTGTTACGACT...\n",
              "180      368983  ...  GAGGTGATCCAGCCGCACCTTCCGGTACGGCTACCTTGTTACGACT...\n",
              "181      373396  ...  GAGGTGATCCAGCCGCACCTTCCGGTACGGCTACCTTGTTACGACT...\n",
              "182      373397  ...  GGAGAGTTTGATCCTGGCTCAGGATGAACGCTGGCGGCGTGCTTAA...\n",
              "\n",
              "[183 rows x 13 columns]"
            ]
          },
          "metadata": {
            "tags": []
          },
          "execution_count": 4
        }
      ]
    },
    {
      "cell_type": "code",
      "metadata": {
        "colab": {
          "base_uri": "https://localhost:8080/"
        },
        "id": "EWkR4WQHTaSi",
        "outputId": "e5dd5422-2123-4359-8bfa-bcb1bbd4eb4e"
      },
      "source": [
        "# Number of sequences per genus\n",
        "full_df.groupby('genus').genus.count().sort_values(ascending = False)"
      ],
      "execution_count": null,
      "outputs": [
        {
          "output_type": "execute_result",
          "data": {
            "text/plain": [
              "genus\n",
              "Prochlorococcus_B    47\n",
              "Synechococcus_C      39\n",
              "Synechococcus_E      36\n",
              "Prochlorococcus      22\n",
              "Prochlorococcus_C    18\n",
              "Cyanobium_A          11\n",
              "WH-5701              10\n",
              "Name: genus, dtype: int64"
            ]
          },
          "metadata": {
            "tags": []
          },
          "execution_count": 5
        }
      ]
    },
    {
      "cell_type": "code",
      "metadata": {
        "colab": {
          "base_uri": "https://localhost:8080/",
          "height": 419
        },
        "id": "BXHZ3sIMTd3M",
        "outputId": "d0ec7b6d-299e-4051-e057-827fccaa0988"
      },
      "source": [
        "# Subset dataframe\n",
        "df = full_df[['genus',  'sequence']].rename(columns={'sequence': 'seq'})\n",
        "df"
      ],
      "execution_count": null,
      "outputs": [
        {
          "output_type": "execute_result",
          "data": {
            "text/html": [
              "<div>\n",
              "<style scoped>\n",
              "    .dataframe tbody tr th:only-of-type {\n",
              "        vertical-align: middle;\n",
              "    }\n",
              "\n",
              "    .dataframe tbody tr th {\n",
              "        vertical-align: top;\n",
              "    }\n",
              "\n",
              "    .dataframe thead th {\n",
              "        text-align: right;\n",
              "    }\n",
              "</style>\n",
              "<table border=\"1\" class=\"dataframe\">\n",
              "  <thead>\n",
              "    <tr style=\"text-align: right;\">\n",
              "      <th></th>\n",
              "      <th>genus</th>\n",
              "      <th>seq</th>\n",
              "    </tr>\n",
              "  </thead>\n",
              "  <tbody>\n",
              "    <tr>\n",
              "      <th>0</th>\n",
              "      <td>Cyanobium_A</td>\n",
              "      <td>GAGGTGATCCAGCCGCACCTTCCGGTACGGCTACCTTGTTACGACT...</td>\n",
              "    </tr>\n",
              "    <tr>\n",
              "      <th>1</th>\n",
              "      <td>Cyanobium_A</td>\n",
              "      <td>GAGGTGATCCAGCCGCACCTTCCGGTACGGCTACCTTGTTACGACT...</td>\n",
              "    </tr>\n",
              "    <tr>\n",
              "      <th>2</th>\n",
              "      <td>Cyanobium_A</td>\n",
              "      <td>GAGGTGATCCAGCCGCACCTTCCGGTACGGCTACCTTGTTACGACT...</td>\n",
              "    </tr>\n",
              "    <tr>\n",
              "      <th>3</th>\n",
              "      <td>Cyanobium_A</td>\n",
              "      <td>CGGCGTGCTTAACACATGCAAGTCGAACGCACCTTCGGGTGAGTGG...</td>\n",
              "    </tr>\n",
              "    <tr>\n",
              "      <th>4</th>\n",
              "      <td>Cyanobium_A</td>\n",
              "      <td>GGAGAGTTTGATCCTGGCTCAGGATGAACGCTGGCGGCGTGCTTAA...</td>\n",
              "    </tr>\n",
              "    <tr>\n",
              "      <th>...</th>\n",
              "      <td>...</td>\n",
              "      <td>...</td>\n",
              "    </tr>\n",
              "    <tr>\n",
              "      <th>178</th>\n",
              "      <td>WH-5701</td>\n",
              "      <td>GGAGAGTTTGATCCTGGCTCAGGATGAACGCTGGCGGCGTGCTTAA...</td>\n",
              "    </tr>\n",
              "    <tr>\n",
              "      <th>179</th>\n",
              "      <td>WH-5701</td>\n",
              "      <td>GAGGTGATCCAGCCGCACCTTCCGGTACGGCTACCTTGTTACGACT...</td>\n",
              "    </tr>\n",
              "    <tr>\n",
              "      <th>180</th>\n",
              "      <td>WH-5701</td>\n",
              "      <td>GAGGTGATCCAGCCGCACCTTCCGGTACGGCTACCTTGTTACGACT...</td>\n",
              "    </tr>\n",
              "    <tr>\n",
              "      <th>181</th>\n",
              "      <td>WH-5701</td>\n",
              "      <td>GAGGTGATCCAGCCGCACCTTCCGGTACGGCTACCTTGTTACGACT...</td>\n",
              "    </tr>\n",
              "    <tr>\n",
              "      <th>182</th>\n",
              "      <td>WH-5701</td>\n",
              "      <td>GGAGAGTTTGATCCTGGCTCAGGATGAACGCTGGCGGCGTGCTTAA...</td>\n",
              "    </tr>\n",
              "  </tbody>\n",
              "</table>\n",
              "<p>183 rows × 2 columns</p>\n",
              "</div>"
            ],
            "text/plain": [
              "           genus                                                seq\n",
              "0    Cyanobium_A  GAGGTGATCCAGCCGCACCTTCCGGTACGGCTACCTTGTTACGACT...\n",
              "1    Cyanobium_A  GAGGTGATCCAGCCGCACCTTCCGGTACGGCTACCTTGTTACGACT...\n",
              "2    Cyanobium_A  GAGGTGATCCAGCCGCACCTTCCGGTACGGCTACCTTGTTACGACT...\n",
              "3    Cyanobium_A  CGGCGTGCTTAACACATGCAAGTCGAACGCACCTTCGGGTGAGTGG...\n",
              "4    Cyanobium_A  GGAGAGTTTGATCCTGGCTCAGGATGAACGCTGGCGGCGTGCTTAA...\n",
              "..           ...                                                ...\n",
              "178      WH-5701  GGAGAGTTTGATCCTGGCTCAGGATGAACGCTGGCGGCGTGCTTAA...\n",
              "179      WH-5701  GAGGTGATCCAGCCGCACCTTCCGGTACGGCTACCTTGTTACGACT...\n",
              "180      WH-5701  GAGGTGATCCAGCCGCACCTTCCGGTACGGCTACCTTGTTACGACT...\n",
              "181      WH-5701  GAGGTGATCCAGCCGCACCTTCCGGTACGGCTACCTTGTTACGACT...\n",
              "182      WH-5701  GGAGAGTTTGATCCTGGCTCAGGATGAACGCTGGCGGCGTGCTTAA...\n",
              "\n",
              "[183 rows x 2 columns]"
            ]
          },
          "metadata": {
            "tags": []
          },
          "execution_count": 6
        }
      ]
    },
    {
      "cell_type": "code",
      "metadata": {
        "colab": {
          "base_uri": "https://localhost:8080/",
          "height": 419
        },
        "id": "Mip95R43Tge9",
        "outputId": "331303f7-f1c3-4c39-e9d0-b64452ce1caa"
      },
      "source": [
        "# Get kmer string for each sequence\n",
        "df['kmer_string'] = df.seq.map(lambda x: getKmers(x, sizek=7))\n",
        "df"
      ],
      "execution_count": null,
      "outputs": [
        {
          "output_type": "execute_result",
          "data": {
            "text/html": [
              "<div>\n",
              "<style scoped>\n",
              "    .dataframe tbody tr th:only-of-type {\n",
              "        vertical-align: middle;\n",
              "    }\n",
              "\n",
              "    .dataframe tbody tr th {\n",
              "        vertical-align: top;\n",
              "    }\n",
              "\n",
              "    .dataframe thead th {\n",
              "        text-align: right;\n",
              "    }\n",
              "</style>\n",
              "<table border=\"1\" class=\"dataframe\">\n",
              "  <thead>\n",
              "    <tr style=\"text-align: right;\">\n",
              "      <th></th>\n",
              "      <th>genus</th>\n",
              "      <th>seq</th>\n",
              "      <th>kmer_string</th>\n",
              "    </tr>\n",
              "  </thead>\n",
              "  <tbody>\n",
              "    <tr>\n",
              "      <th>0</th>\n",
              "      <td>Cyanobium_A</td>\n",
              "      <td>GAGGTGATCCAGCCGCACCTTCCGGTACGGCTACCTTGTTACGACT...</td>\n",
              "      <td>gaggtga aggtgat ggtgatc gtgatcc tgatcca gatcca...</td>\n",
              "    </tr>\n",
              "    <tr>\n",
              "      <th>1</th>\n",
              "      <td>Cyanobium_A</td>\n",
              "      <td>GAGGTGATCCAGCCGCACCTTCCGGTACGGCTACCTTGTTACGACT...</td>\n",
              "      <td>gaggtga aggtgat ggtgatc gtgatcc tgatcca gatcca...</td>\n",
              "    </tr>\n",
              "    <tr>\n",
              "      <th>2</th>\n",
              "      <td>Cyanobium_A</td>\n",
              "      <td>GAGGTGATCCAGCCGCACCTTCCGGTACGGCTACCTTGTTACGACT...</td>\n",
              "      <td>gaggtga aggtgat ggtgatc gtgatcc tgatcca gatcca...</td>\n",
              "    </tr>\n",
              "    <tr>\n",
              "      <th>3</th>\n",
              "      <td>Cyanobium_A</td>\n",
              "      <td>CGGCGTGCTTAACACATGCAAGTCGAACGCACCTTCGGGTGAGTGG...</td>\n",
              "      <td>cggcgtg ggcgtgc gcgtgct cgtgctt gtgctta tgctta...</td>\n",
              "    </tr>\n",
              "    <tr>\n",
              "      <th>4</th>\n",
              "      <td>Cyanobium_A</td>\n",
              "      <td>GGAGAGTTTGATCCTGGCTCAGGATGAACGCTGGCGGCGTGCTTAA...</td>\n",
              "      <td>ggagagt gagagtt agagttt gagtttg agtttga gtttga...</td>\n",
              "    </tr>\n",
              "    <tr>\n",
              "      <th>...</th>\n",
              "      <td>...</td>\n",
              "      <td>...</td>\n",
              "      <td>...</td>\n",
              "    </tr>\n",
              "    <tr>\n",
              "      <th>178</th>\n",
              "      <td>WH-5701</td>\n",
              "      <td>GGAGAGTTTGATCCTGGCTCAGGATGAACGCTGGCGGCGTGCTTAA...</td>\n",
              "      <td>ggagagt gagagtt agagttt gagtttg agtttga gtttga...</td>\n",
              "    </tr>\n",
              "    <tr>\n",
              "      <th>179</th>\n",
              "      <td>WH-5701</td>\n",
              "      <td>GAGGTGATCCAGCCGCACCTTCCGGTACGGCTACCTTGTTACGACT...</td>\n",
              "      <td>gaggtga aggtgat ggtgatc gtgatcc tgatcca gatcca...</td>\n",
              "    </tr>\n",
              "    <tr>\n",
              "      <th>180</th>\n",
              "      <td>WH-5701</td>\n",
              "      <td>GAGGTGATCCAGCCGCACCTTCCGGTACGGCTACCTTGTTACGACT...</td>\n",
              "      <td>gaggtga aggtgat ggtgatc gtgatcc tgatcca gatcca...</td>\n",
              "    </tr>\n",
              "    <tr>\n",
              "      <th>181</th>\n",
              "      <td>WH-5701</td>\n",
              "      <td>GAGGTGATCCAGCCGCACCTTCCGGTACGGCTACCTTGTTACGACT...</td>\n",
              "      <td>gaggtga aggtgat ggtgatc gtgatcc tgatcca gatcca...</td>\n",
              "    </tr>\n",
              "    <tr>\n",
              "      <th>182</th>\n",
              "      <td>WH-5701</td>\n",
              "      <td>GGAGAGTTTGATCCTGGCTCAGGATGAACGCTGGCGGCGTGCTTAA...</td>\n",
              "      <td>ggagagt gagagtt agagttt gagtttg agtttga gtttga...</td>\n",
              "    </tr>\n",
              "  </tbody>\n",
              "</table>\n",
              "<p>183 rows × 3 columns</p>\n",
              "</div>"
            ],
            "text/plain": [
              "           genus  ...                                        kmer_string\n",
              "0    Cyanobium_A  ...  gaggtga aggtgat ggtgatc gtgatcc tgatcca gatcca...\n",
              "1    Cyanobium_A  ...  gaggtga aggtgat ggtgatc gtgatcc tgatcca gatcca...\n",
              "2    Cyanobium_A  ...  gaggtga aggtgat ggtgatc gtgatcc tgatcca gatcca...\n",
              "3    Cyanobium_A  ...  cggcgtg ggcgtgc gcgtgct cgtgctt gtgctta tgctta...\n",
              "4    Cyanobium_A  ...  ggagagt gagagtt agagttt gagtttg agtttga gtttga...\n",
              "..           ...  ...                                                ...\n",
              "178      WH-5701  ...  ggagagt gagagtt agagttt gagtttg agtttga gtttga...\n",
              "179      WH-5701  ...  gaggtga aggtgat ggtgatc gtgatcc tgatcca gatcca...\n",
              "180      WH-5701  ...  gaggtga aggtgat ggtgatc gtgatcc tgatcca gatcca...\n",
              "181      WH-5701  ...  gaggtga aggtgat ggtgatc gtgatcc tgatcca gatcca...\n",
              "182      WH-5701  ...  ggagagt gagagtt agagttt gagtttg agtttga gtttga...\n",
              "\n",
              "[183 rows x 3 columns]"
            ]
          },
          "metadata": {
            "tags": []
          },
          "execution_count": 7
        }
      ]
    },
    {
      "cell_type": "code",
      "metadata": {
        "colab": {
          "base_uri": "https://localhost:8080/",
          "height": 419
        },
        "id": "Vph1X6lN2k7s",
        "outputId": "7a70ec4f-67af-440d-8c96-24b42bcf1cb3"
      },
      "source": [
        "# Identify which sequences belong to each of the 2 broad clusters, as described in our paper\n",
        "df['seq_type'] = df.seq.apply(lambda x: 'GAGGTGATCCA' in x or x.endswith('AAACTCTCCGTT'))\n",
        "df"
      ],
      "execution_count": null,
      "outputs": [
        {
          "output_type": "execute_result",
          "data": {
            "text/html": [
              "<div>\n",
              "<style scoped>\n",
              "    .dataframe tbody tr th:only-of-type {\n",
              "        vertical-align: middle;\n",
              "    }\n",
              "\n",
              "    .dataframe tbody tr th {\n",
              "        vertical-align: top;\n",
              "    }\n",
              "\n",
              "    .dataframe thead th {\n",
              "        text-align: right;\n",
              "    }\n",
              "</style>\n",
              "<table border=\"1\" class=\"dataframe\">\n",
              "  <thead>\n",
              "    <tr style=\"text-align: right;\">\n",
              "      <th></th>\n",
              "      <th>genus</th>\n",
              "      <th>seq</th>\n",
              "      <th>kmer_string</th>\n",
              "      <th>seq_type</th>\n",
              "    </tr>\n",
              "  </thead>\n",
              "  <tbody>\n",
              "    <tr>\n",
              "      <th>0</th>\n",
              "      <td>Cyanobium_A</td>\n",
              "      <td>GAGGTGATCCAGCCGCACCTTCCGGTACGGCTACCTTGTTACGACT...</td>\n",
              "      <td>gaggtga aggtgat ggtgatc gtgatcc tgatcca gatcca...</td>\n",
              "      <td>True</td>\n",
              "    </tr>\n",
              "    <tr>\n",
              "      <th>1</th>\n",
              "      <td>Cyanobium_A</td>\n",
              "      <td>GAGGTGATCCAGCCGCACCTTCCGGTACGGCTACCTTGTTACGACT...</td>\n",
              "      <td>gaggtga aggtgat ggtgatc gtgatcc tgatcca gatcca...</td>\n",
              "      <td>True</td>\n",
              "    </tr>\n",
              "    <tr>\n",
              "      <th>2</th>\n",
              "      <td>Cyanobium_A</td>\n",
              "      <td>GAGGTGATCCAGCCGCACCTTCCGGTACGGCTACCTTGTTACGACT...</td>\n",
              "      <td>gaggtga aggtgat ggtgatc gtgatcc tgatcca gatcca...</td>\n",
              "      <td>True</td>\n",
              "    </tr>\n",
              "    <tr>\n",
              "      <th>3</th>\n",
              "      <td>Cyanobium_A</td>\n",
              "      <td>CGGCGTGCTTAACACATGCAAGTCGAACGCACCTTCGGGTGAGTGG...</td>\n",
              "      <td>cggcgtg ggcgtgc gcgtgct cgtgctt gtgctta tgctta...</td>\n",
              "      <td>False</td>\n",
              "    </tr>\n",
              "    <tr>\n",
              "      <th>4</th>\n",
              "      <td>Cyanobium_A</td>\n",
              "      <td>GGAGAGTTTGATCCTGGCTCAGGATGAACGCTGGCGGCGTGCTTAA...</td>\n",
              "      <td>ggagagt gagagtt agagttt gagtttg agtttga gtttga...</td>\n",
              "      <td>False</td>\n",
              "    </tr>\n",
              "    <tr>\n",
              "      <th>...</th>\n",
              "      <td>...</td>\n",
              "      <td>...</td>\n",
              "      <td>...</td>\n",
              "      <td>...</td>\n",
              "    </tr>\n",
              "    <tr>\n",
              "      <th>178</th>\n",
              "      <td>WH-5701</td>\n",
              "      <td>GGAGAGTTTGATCCTGGCTCAGGATGAACGCTGGCGGCGTGCTTAA...</td>\n",
              "      <td>ggagagt gagagtt agagttt gagtttg agtttga gtttga...</td>\n",
              "      <td>False</td>\n",
              "    </tr>\n",
              "    <tr>\n",
              "      <th>179</th>\n",
              "      <td>WH-5701</td>\n",
              "      <td>GAGGTGATCCAGCCGCACCTTCCGGTACGGCTACCTTGTTACGACT...</td>\n",
              "      <td>gaggtga aggtgat ggtgatc gtgatcc tgatcca gatcca...</td>\n",
              "      <td>True</td>\n",
              "    </tr>\n",
              "    <tr>\n",
              "      <th>180</th>\n",
              "      <td>WH-5701</td>\n",
              "      <td>GAGGTGATCCAGCCGCACCTTCCGGTACGGCTACCTTGTTACGACT...</td>\n",
              "      <td>gaggtga aggtgat ggtgatc gtgatcc tgatcca gatcca...</td>\n",
              "      <td>True</td>\n",
              "    </tr>\n",
              "    <tr>\n",
              "      <th>181</th>\n",
              "      <td>WH-5701</td>\n",
              "      <td>GAGGTGATCCAGCCGCACCTTCCGGTACGGCTACCTTGTTACGACT...</td>\n",
              "      <td>gaggtga aggtgat ggtgatc gtgatcc tgatcca gatcca...</td>\n",
              "      <td>True</td>\n",
              "    </tr>\n",
              "    <tr>\n",
              "      <th>182</th>\n",
              "      <td>WH-5701</td>\n",
              "      <td>GGAGAGTTTGATCCTGGCTCAGGATGAACGCTGGCGGCGTGCTTAA...</td>\n",
              "      <td>ggagagt gagagtt agagttt gagtttg agtttga gtttga...</td>\n",
              "      <td>False</td>\n",
              "    </tr>\n",
              "  </tbody>\n",
              "</table>\n",
              "<p>183 rows × 4 columns</p>\n",
              "</div>"
            ],
            "text/plain": [
              "           genus  ... seq_type\n",
              "0    Cyanobium_A  ...     True\n",
              "1    Cyanobium_A  ...     True\n",
              "2    Cyanobium_A  ...     True\n",
              "3    Cyanobium_A  ...    False\n",
              "4    Cyanobium_A  ...    False\n",
              "..           ...  ...      ...\n",
              "178      WH-5701  ...    False\n",
              "179      WH-5701  ...     True\n",
              "180      WH-5701  ...     True\n",
              "181      WH-5701  ...     True\n",
              "182      WH-5701  ...    False\n",
              "\n",
              "[183 rows x 4 columns]"
            ]
          },
          "metadata": {
            "tags": []
          },
          "execution_count": 8
        }
      ]
    },
    {
      "cell_type": "code",
      "metadata": {
        "colab": {
          "base_uri": "https://localhost:8080/",
          "height": 419
        },
        "id": "b31JQURjIAxy",
        "outputId": "dc5ff95b-1c23-4260-bed8-f418bad94aac"
      },
      "source": [
        "# Subset sequences that belong in broad cluster #1\n",
        "df1 = df[df.seq_type]\n",
        "df1"
      ],
      "execution_count": null,
      "outputs": [
        {
          "output_type": "execute_result",
          "data": {
            "text/html": [
              "<div>\n",
              "<style scoped>\n",
              "    .dataframe tbody tr th:only-of-type {\n",
              "        vertical-align: middle;\n",
              "    }\n",
              "\n",
              "    .dataframe tbody tr th {\n",
              "        vertical-align: top;\n",
              "    }\n",
              "\n",
              "    .dataframe thead th {\n",
              "        text-align: right;\n",
              "    }\n",
              "</style>\n",
              "<table border=\"1\" class=\"dataframe\">\n",
              "  <thead>\n",
              "    <tr style=\"text-align: right;\">\n",
              "      <th></th>\n",
              "      <th>genus</th>\n",
              "      <th>seq</th>\n",
              "      <th>kmer_string</th>\n",
              "      <th>seq_type</th>\n",
              "    </tr>\n",
              "  </thead>\n",
              "  <tbody>\n",
              "    <tr>\n",
              "      <th>0</th>\n",
              "      <td>Cyanobium_A</td>\n",
              "      <td>GAGGTGATCCAGCCGCACCTTCCGGTACGGCTACCTTGTTACGACT...</td>\n",
              "      <td>gaggtga aggtgat ggtgatc gtgatcc tgatcca gatcca...</td>\n",
              "      <td>True</td>\n",
              "    </tr>\n",
              "    <tr>\n",
              "      <th>1</th>\n",
              "      <td>Cyanobium_A</td>\n",
              "      <td>GAGGTGATCCAGCCGCACCTTCCGGTACGGCTACCTTGTTACGACT...</td>\n",
              "      <td>gaggtga aggtgat ggtgatc gtgatcc tgatcca gatcca...</td>\n",
              "      <td>True</td>\n",
              "    </tr>\n",
              "    <tr>\n",
              "      <th>2</th>\n",
              "      <td>Cyanobium_A</td>\n",
              "      <td>GAGGTGATCCAGCCGCACCTTCCGGTACGGCTACCTTGTTACGACT...</td>\n",
              "      <td>gaggtga aggtgat ggtgatc gtgatcc tgatcca gatcca...</td>\n",
              "      <td>True</td>\n",
              "    </tr>\n",
              "    <tr>\n",
              "      <th>7</th>\n",
              "      <td>Cyanobium_A</td>\n",
              "      <td>GAGGTGATCCAGCCGCACCTTCCGGTACGGCTACCTTGTTACGACT...</td>\n",
              "      <td>gaggtga aggtgat ggtgatc gtgatcc tgatcca gatcca...</td>\n",
              "      <td>True</td>\n",
              "    </tr>\n",
              "    <tr>\n",
              "      <th>12</th>\n",
              "      <td>Prochlorococcus_B</td>\n",
              "      <td>GAGGTGATCCAGCCGCACCTTCCGGTACGGCTACCTTGTTACGACT...</td>\n",
              "      <td>gaggtga aggtgat ggtgatc gtgatcc tgatcca gatcca...</td>\n",
              "      <td>True</td>\n",
              "    </tr>\n",
              "    <tr>\n",
              "      <th>...</th>\n",
              "      <td>...</td>\n",
              "      <td>...</td>\n",
              "      <td>...</td>\n",
              "      <td>...</td>\n",
              "    </tr>\n",
              "    <tr>\n",
              "      <th>172</th>\n",
              "      <td>Prochlorococcus</td>\n",
              "      <td>GAGGTGATCCAGCCGCACCTTCCGGTACGGCTACCTTGTTACGACT...</td>\n",
              "      <td>gaggtga aggtgat ggtgatc gtgatcc tgatcca gatcca...</td>\n",
              "      <td>True</td>\n",
              "    </tr>\n",
              "    <tr>\n",
              "      <th>174</th>\n",
              "      <td>WH-5701</td>\n",
              "      <td>GAGGTGATCCAGCCGCACCTTCCGGTACGGCTACCTTGTTACGACT...</td>\n",
              "      <td>gaggtga aggtgat ggtgatc gtgatcc tgatcca gatcca...</td>\n",
              "      <td>True</td>\n",
              "    </tr>\n",
              "    <tr>\n",
              "      <th>179</th>\n",
              "      <td>WH-5701</td>\n",
              "      <td>GAGGTGATCCAGCCGCACCTTCCGGTACGGCTACCTTGTTACGACT...</td>\n",
              "      <td>gaggtga aggtgat ggtgatc gtgatcc tgatcca gatcca...</td>\n",
              "      <td>True</td>\n",
              "    </tr>\n",
              "    <tr>\n",
              "      <th>180</th>\n",
              "      <td>WH-5701</td>\n",
              "      <td>GAGGTGATCCAGCCGCACCTTCCGGTACGGCTACCTTGTTACGACT...</td>\n",
              "      <td>gaggtga aggtgat ggtgatc gtgatcc tgatcca gatcca...</td>\n",
              "      <td>True</td>\n",
              "    </tr>\n",
              "    <tr>\n",
              "      <th>181</th>\n",
              "      <td>WH-5701</td>\n",
              "      <td>GAGGTGATCCAGCCGCACCTTCCGGTACGGCTACCTTGTTACGACT...</td>\n",
              "      <td>gaggtga aggtgat ggtgatc gtgatcc tgatcca gatcca...</td>\n",
              "      <td>True</td>\n",
              "    </tr>\n",
              "  </tbody>\n",
              "</table>\n",
              "<p>97 rows × 4 columns</p>\n",
              "</div>"
            ],
            "text/plain": [
              "                 genus  ... seq_type\n",
              "0          Cyanobium_A  ...     True\n",
              "1          Cyanobium_A  ...     True\n",
              "2          Cyanobium_A  ...     True\n",
              "7          Cyanobium_A  ...     True\n",
              "12   Prochlorococcus_B  ...     True\n",
              "..                 ...  ...      ...\n",
              "172    Prochlorococcus  ...     True\n",
              "174            WH-5701  ...     True\n",
              "179            WH-5701  ...     True\n",
              "180            WH-5701  ...     True\n",
              "181            WH-5701  ...     True\n",
              "\n",
              "[97 rows x 4 columns]"
            ]
          },
          "metadata": {
            "tags": []
          },
          "execution_count": 9
        }
      ]
    },
    {
      "cell_type": "code",
      "metadata": {
        "colab": {
          "base_uri": "https://localhost:8080/",
          "height": 419
        },
        "id": "my4XhaMMQic-",
        "outputId": "7a93c6a0-a8cf-4689-a4ab-84a6237725c3"
      },
      "source": [
        "# Subset sequences that belong in broad cluster #2\n",
        "df2 = df[df.seq_type == False]\n",
        "df2"
      ],
      "execution_count": null,
      "outputs": [
        {
          "output_type": "execute_result",
          "data": {
            "text/html": [
              "<div>\n",
              "<style scoped>\n",
              "    .dataframe tbody tr th:only-of-type {\n",
              "        vertical-align: middle;\n",
              "    }\n",
              "\n",
              "    .dataframe tbody tr th {\n",
              "        vertical-align: top;\n",
              "    }\n",
              "\n",
              "    .dataframe thead th {\n",
              "        text-align: right;\n",
              "    }\n",
              "</style>\n",
              "<table border=\"1\" class=\"dataframe\">\n",
              "  <thead>\n",
              "    <tr style=\"text-align: right;\">\n",
              "      <th></th>\n",
              "      <th>genus</th>\n",
              "      <th>seq</th>\n",
              "      <th>kmer_string</th>\n",
              "      <th>seq_type</th>\n",
              "    </tr>\n",
              "  </thead>\n",
              "  <tbody>\n",
              "    <tr>\n",
              "      <th>3</th>\n",
              "      <td>Cyanobium_A</td>\n",
              "      <td>CGGCGTGCTTAACACATGCAAGTCGAACGCACCTTCGGGTGAGTGG...</td>\n",
              "      <td>cggcgtg ggcgtgc gcgtgct cgtgctt gtgctta tgctta...</td>\n",
              "      <td>False</td>\n",
              "    </tr>\n",
              "    <tr>\n",
              "      <th>4</th>\n",
              "      <td>Cyanobium_A</td>\n",
              "      <td>GGAGAGTTTGATCCTGGCTCAGGATGAACGCTGGCGGCGTGCTTAA...</td>\n",
              "      <td>ggagagt gagagtt agagttt gagtttg agtttga gtttga...</td>\n",
              "      <td>False</td>\n",
              "    </tr>\n",
              "    <tr>\n",
              "      <th>5</th>\n",
              "      <td>Cyanobium_A</td>\n",
              "      <td>GGAGAGTTTGATCCTGGCTCAGGATGAACGCTGGCGGCGTGCTTAA...</td>\n",
              "      <td>ggagagt gagagtt agagttt gagtttg agtttga gtttga...</td>\n",
              "      <td>False</td>\n",
              "    </tr>\n",
              "    <tr>\n",
              "      <th>6</th>\n",
              "      <td>Cyanobium_A</td>\n",
              "      <td>GGAGAGTTTGATCCTGGCTCAGGATGAACGCTGGCGGCGTGCTTAA...</td>\n",
              "      <td>ggagagt gagagtt agagttt gagtttg agtttga gtttga...</td>\n",
              "      <td>False</td>\n",
              "    </tr>\n",
              "    <tr>\n",
              "      <th>8</th>\n",
              "      <td>Cyanobium_A</td>\n",
              "      <td>GGAGAGTTTGATCCTGGCTCAGGATGAACGCTGGCGGCGTGCTTAA...</td>\n",
              "      <td>ggagagt gagagtt agagttt gagtttg agtttga gtttga...</td>\n",
              "      <td>False</td>\n",
              "    </tr>\n",
              "    <tr>\n",
              "      <th>...</th>\n",
              "      <td>...</td>\n",
              "      <td>...</td>\n",
              "      <td>...</td>\n",
              "      <td>...</td>\n",
              "    </tr>\n",
              "    <tr>\n",
              "      <th>175</th>\n",
              "      <td>WH-5701</td>\n",
              "      <td>AGAGGATGATCAGCCACACTGGGACTGAGACACGGCCCAGACTCCT...</td>\n",
              "      <td>agaggat gaggatg aggatga ggatgat gatgatc atgatc...</td>\n",
              "      <td>False</td>\n",
              "    </tr>\n",
              "    <tr>\n",
              "      <th>176</th>\n",
              "      <td>WH-5701</td>\n",
              "      <td>GGAGAGTTTGATCCTGGCTCAGGATGAACGCTGGCGGCGTGCTTAA...</td>\n",
              "      <td>ggagagt gagagtt agagttt gagtttg agtttga gtttga...</td>\n",
              "      <td>False</td>\n",
              "    </tr>\n",
              "    <tr>\n",
              "      <th>177</th>\n",
              "      <td>WH-5701</td>\n",
              "      <td>GGAGAGTTTGATCCTGGCTCAGGATGAACGCTGGCGGCGTGCTTAA...</td>\n",
              "      <td>ggagagt gagagtt agagttt gagtttg agtttga gtttga...</td>\n",
              "      <td>False</td>\n",
              "    </tr>\n",
              "    <tr>\n",
              "      <th>178</th>\n",
              "      <td>WH-5701</td>\n",
              "      <td>GGAGAGTTTGATCCTGGCTCAGGATGAACGCTGGCGGCGTGCTTAA...</td>\n",
              "      <td>ggagagt gagagtt agagttt gagtttg agtttga gtttga...</td>\n",
              "      <td>False</td>\n",
              "    </tr>\n",
              "    <tr>\n",
              "      <th>182</th>\n",
              "      <td>WH-5701</td>\n",
              "      <td>GGAGAGTTTGATCCTGGCTCAGGATGAACGCTGGCGGCGTGCTTAA...</td>\n",
              "      <td>ggagagt gagagtt agagttt gagtttg agtttga gtttga...</td>\n",
              "      <td>False</td>\n",
              "    </tr>\n",
              "  </tbody>\n",
              "</table>\n",
              "<p>86 rows × 4 columns</p>\n",
              "</div>"
            ],
            "text/plain": [
              "           genus  ... seq_type\n",
              "3    Cyanobium_A  ...    False\n",
              "4    Cyanobium_A  ...    False\n",
              "5    Cyanobium_A  ...    False\n",
              "6    Cyanobium_A  ...    False\n",
              "8    Cyanobium_A  ...    False\n",
              "..           ...  ...      ...\n",
              "175      WH-5701  ...    False\n",
              "176      WH-5701  ...    False\n",
              "177      WH-5701  ...    False\n",
              "178      WH-5701  ...    False\n",
              "182      WH-5701  ...    False\n",
              "\n",
              "[86 rows x 4 columns]"
            ]
          },
          "metadata": {
            "tags": []
          },
          "execution_count": 10
        }
      ]
    },
    {
      "cell_type": "code",
      "metadata": {
        "colab": {
          "base_uri": "https://localhost:8080/"
        },
        "id": "4wfXFu-8TmCY",
        "outputId": "2bbada17-19ff-48fb-e24b-ba70209c354e"
      },
      "source": [
        "# Create the Bag of Words model\n",
        "cv = CountVectorizer()\n",
        "X = cv.fit_transform(df['kmer_string'].to_list()).toarray()\n",
        "X"
      ],
      "execution_count": null,
      "outputs": [
        {
          "output_type": "execute_result",
          "data": {
            "text/plain": [
              "array([[0, 0, 0, ..., 0, 0, 0],\n",
              "       [0, 0, 0, ..., 0, 0, 0],\n",
              "       [0, 0, 0, ..., 0, 0, 0],\n",
              "       ...,\n",
              "       [0, 0, 0, ..., 0, 0, 0],\n",
              "       [0, 0, 0, ..., 1, 0, 0],\n",
              "       [0, 0, 1, ..., 0, 0, 0]])"
            ]
          },
          "metadata": {
            "tags": []
          },
          "execution_count": 11
        }
      ]
    },
    {
      "cell_type": "code",
      "metadata": {
        "id": "7DSqehJZTtaW"
      },
      "source": [
        "# Set style of scatterplot\n",
        "sns.set_context('notebook', font_scale=1.1)\n",
        "sns.set_style('ticks')"
      ],
      "execution_count": null,
      "outputs": []
    },
    {
      "cell_type": "code",
      "metadata": {
        "colab": {
          "base_uri": "https://localhost:8080/",
          "height": 447
        },
        "id": "jbR6mGRsTqxV",
        "outputId": "d144fd75-cebb-4c9f-e73b-8ad720e816ca"
      },
      "source": [
        "# PCA plot\n",
        "pca = PCA(n_components=2)\n",
        "pca_results = pca.fit_transform(X)\n",
        "\n",
        "pca_df = pd.DataFrame(data = pca_results, columns = ['pca_1', 'pca_2'])\n",
        "pca_df = pd.concat([pca_df, df[['genus']]], axis = 1)\n",
        "\n",
        "sns.lmplot(x='pca_1',\n",
        "           y='pca_2',\n",
        "           data=pca_df,\n",
        "           fit_reg=False,\n",
        "           legend=True,\n",
        "           size=5,\n",
        "           hue='genus',\n",
        "           scatter_kws={\"s\":200, \"alpha\":0.3})\n",
        "\n",
        "plt.title('PCA Results', weight='bold').set_fontsize('14')\n",
        "plt.xlabel('Prin Comp 1', weight='bold').set_fontsize('10')\n",
        "plt.ylabel('Prin Comp 2', weight='bold').set_fontsize('10')"
      ],
      "execution_count": null,
      "outputs": [
        {
          "output_type": "stream",
          "text": [
            "/usr/local/lib/python3.7/dist-packages/seaborn/regression.py:580: UserWarning: The `size` parameter has been renamed to `height`; please update your code.\n",
            "  warnings.warn(msg, UserWarning)\n"
          ],
          "name": "stderr"
        },
        {
          "output_type": "display_data",
          "data": {
            "image/png": "[encoded data removed]",
            "text/plain": [
              "<Figure size 515.935x360 with 1 Axes>"
            ]
          },
          "metadata": {
            "tags": []
          }
        }
      ]
    },
    {
      "cell_type": "code",
      "metadata": {
        "colab": {
          "base_uri": "https://localhost:8080/",
          "height": 447
        },
        "id": "-H4FTyE0TxoB",
        "outputId": "05627055-50b4-4d8f-afa1-f09d59d48eef"
      },
      "source": [
        "# tSNE\n",
        "tsne = TSNE(perplexity=14, n_components=2)\n",
        "tsne_results = tsne.fit_transform(X)\n",
        "\n",
        "tsne_df = pd.DataFrame(data = tsne_results, columns = ['tsne_1', 'tsne_2'])\n",
        "tsne_df = pd.concat([tsne_df, df[['genus']]], axis = 1)\n",
        "\n",
        "sns.lmplot(x='tsne_1',\n",
        "           y='tsne_2',\n",
        "           data=tsne_df,\n",
        "           fit_reg=False,\n",
        "           legend=True,\n",
        "           size=5,\n",
        "           hue='genus',\n",
        "           scatter_kws={\"s\":200, \"alpha\":0.3})\n",
        "\n",
        "plt.title('tSNE Results', weight='bold').set_fontsize('14')\n",
        "plt.xlabel('Prin Comp 1', weight='bold').set_fontsize('10')\n",
        "plt.ylabel('Prin Comp 2', weight='bold').set_fontsize('10')"
      ],
      "execution_count": null,
      "outputs": [
        {
          "output_type": "stream",
          "text": [
            "/usr/local/lib/python3.7/dist-packages/seaborn/regression.py:580: UserWarning: The `size` parameter has been renamed to `height`; please update your code.\n",
            "  warnings.warn(msg, UserWarning)\n"
          ],
          "name": "stderr"
        },
        {
          "output_type": "display_data",
          "data": {
            "image/png": "[encoded data removed]",
            "text/plain": [
              "<Figure size 515.935x360 with 1 Axes>"
            ]
          },
          "metadata": {
            "tags": []
          }
        }
      ]
    },
    {
      "cell_type": "code",
      "metadata": {
        "colab": {
          "base_uri": "https://localhost:8080/",
          "height": 658
        },
        "id": "qgoX4AMkT6tn",
        "outputId": "92c486c3-dca6-4e16-85e1-bab2404ed375"
      },
      "source": [
        "# UMAP\n",
        "trans = umap.UMAP(n_neighbors=50, random_state=42).fit(X)\n",
        "umap.plot.points(trans, labels=df['genus'].values, theme = 'inferno')"
      ],
      "execution_count": null,
      "outputs": [
        {
          "output_type": "execute_result",
          "data": {
            "text/plain": [
              "<matplotlib.axes._subplots.AxesSubplot at 0x7f64e2461b90>"
            ]
          },
          "metadata": {
            "tags": []
          },
          "execution_count": 15
        },
        {
          "output_type": "display_data",
          "data": {
            "image/png": "[encoded data removed]",
            "text/plain": [
              "<Figure size 800x800 with 1 Axes>"
            ]
          },
          "metadata": {
            "tags": []
          }
        }
      ]
    },
    {
      "cell_type": "code",
      "metadata": {
        "colab": {
          "base_uri": "https://localhost:8080/",
          "height": 419
        },
        "id": "6Bx8AoOKxcs6",
        "outputId": "c6b64ef6-5d75-4413-c8d1-7f5e5987e6a3"
      },
      "source": [
        "# Create labels for interactive UMAP below\n",
        "labels_df = full_df\n",
        "labels_df['seq_type'] = labels_df.sequence.apply(lambda x: 'GAGGTGATCCA' in x or x.endswith('AAACTCTCCGTT'))\n",
        "labels_df = labels_df[['seq_type', 'sequence_name']]\n",
        "\n",
        "labels_df"
      ],
      "execution_count": null,
      "outputs": [
        {
          "output_type": "execute_result",
          "data": {
            "text/html": [
              "<div>\n",
              "<style scoped>\n",
              "    .dataframe tbody tr th:only-of-type {\n",
              "        vertical-align: middle;\n",
              "    }\n",
              "\n",
              "    .dataframe tbody tr th {\n",
              "        vertical-align: top;\n",
              "    }\n",
              "\n",
              "    .dataframe thead th {\n",
              "        text-align: right;\n",
              "    }\n",
              "</style>\n",
              "<table border=\"1\" class=\"dataframe\">\n",
              "  <thead>\n",
              "    <tr style=\"text-align: right;\">\n",
              "      <th></th>\n",
              "      <th>seq_type</th>\n",
              "      <th>sequence_name</th>\n",
              "    </tr>\n",
              "  </thead>\n",
              "  <tbody>\n",
              "    <tr>\n",
              "      <th>0</th>\n",
              "      <td>True</td>\n",
              "      <td>&gt;RS_GCF_002252665.1~NZ_NQKZ01000036.1</td>\n",
              "    </tr>\n",
              "    <tr>\n",
              "      <th>1</th>\n",
              "      <td>True</td>\n",
              "      <td>&gt;RS_GCF_900088535.1~NZ_LT578417.1</td>\n",
              "    </tr>\n",
              "    <tr>\n",
              "      <th>2</th>\n",
              "      <td>True</td>\n",
              "      <td>&gt;RS_GCF_900088535.1~NZ_LT578417.1-#2</td>\n",
              "    </tr>\n",
              "    <tr>\n",
              "      <th>3</th>\n",
              "      <td>False</td>\n",
              "      <td>&gt;RS_GCF_900088535.1~NZ_LT578417.1-#3</td>\n",
              "    </tr>\n",
              "    <tr>\n",
              "      <th>4</th>\n",
              "      <td>False</td>\n",
              "      <td>&gt;RS_GCF_000155635.1~NZ_DS990556.1</td>\n",
              "    </tr>\n",
              "    <tr>\n",
              "      <th>...</th>\n",
              "      <td>...</td>\n",
              "      <td>...</td>\n",
              "    </tr>\n",
              "    <tr>\n",
              "      <th>178</th>\n",
              "      <td>False</td>\n",
              "      <td>&gt;RS_GCF_000153045.1~NZ_CH724159.1</td>\n",
              "    </tr>\n",
              "    <tr>\n",
              "      <th>179</th>\n",
              "      <td>True</td>\n",
              "      <td>&gt;RS_GCF_000153045.1~NZ_CH724160.1-#2</td>\n",
              "    </tr>\n",
              "    <tr>\n",
              "      <th>180</th>\n",
              "      <td>True</td>\n",
              "      <td>&gt;RS_GCF_002252625.1~NZ_NQKW01000044.1</td>\n",
              "    </tr>\n",
              "    <tr>\n",
              "      <th>181</th>\n",
              "      <td>True</td>\n",
              "      <td>&gt;RS_GCF_001885215.1~NZ_CP018091.1-#2</td>\n",
              "    </tr>\n",
              "    <tr>\n",
              "      <th>182</th>\n",
              "      <td>False</td>\n",
              "      <td>&gt;RS_GCF_001885215.1~NZ_CP018091.1</td>\n",
              "    </tr>\n",
              "  </tbody>\n",
              "</table>\n",
              "<p>183 rows × 2 columns</p>\n",
              "</div>"
            ],
            "text/plain": [
              "     seq_type                          sequence_name\n",
              "0        True  >RS_GCF_002252665.1~NZ_NQKZ01000036.1\n",
              "1        True      >RS_GCF_900088535.1~NZ_LT578417.1\n",
              "2        True   >RS_GCF_900088535.1~NZ_LT578417.1-#2\n",
              "3       False   >RS_GCF_900088535.1~NZ_LT578417.1-#3\n",
              "4       False      >RS_GCF_000155635.1~NZ_DS990556.1\n",
              "..        ...                                    ...\n",
              "178     False      >RS_GCF_000153045.1~NZ_CH724159.1\n",
              "179      True   >RS_GCF_000153045.1~NZ_CH724160.1-#2\n",
              "180      True  >RS_GCF_002252625.1~NZ_NQKW01000044.1\n",
              "181      True   >RS_GCF_001885215.1~NZ_CP018091.1-#2\n",
              "182     False      >RS_GCF_001885215.1~NZ_CP018091.1\n",
              "\n",
              "[183 rows x 2 columns]"
            ]
          },
          "metadata": {
            "tags": []
          },
          "execution_count": 16
        }
      ]
    },
    {
      "cell_type": "code",
      "metadata": {
        "colab": {
          "base_uri": "https://localhost:8080/",
          "height": 817
        },
        "id": "YL0ywdN0sGbW",
        "outputId": "5278193d-9351-46d7-a6aa-7f5d652d53b3"
      },
      "source": [
        "# Interactive UMAP, separated by the 2 broad clusters\n",
        "umap.plot.output_notebook()\n",
        "p = umap.plot.interactive(trans, labels=labels_df['seq_type'].values, theme = 'inferno', hover_data=labels_df, point_size=5)\n",
        "umap.plot.show(p)"
      ],
      "execution_count": null,
      "outputs": [
        {
          "output_type": "display_data",
          "data": {
            "application/javascript": [
              "\n",
              "(function(root) {\n",
              "  function now() {\n",
              "    return new Date();\n",
              "  }\n",
              "\n",
              "  var force = true;\n",
              "\n",
              "  if (typeof root._bokeh_onload_callbacks === \"undefined\" || force === true) {\n",
              "    root._bokeh_onload_callbacks = [];\n",
              "    root._bokeh_is_loading = undefined;\n",
              "  }\n",
              "\n",
              "  var JS_MIME_TYPE = 'application/javascript';\n",
              "  var HTML_MIME_TYPE = 'text/html';\n",
              "  var EXEC_MIME_TYPE = 'application/vnd.bokehjs_exec.v0+json';\n",
              "  var CLASS_NAME = 'output_bokeh rendered_html';\n",
              "\n",
              "  /**\n",
              "   * Render data to the DOM node\n",
              "   */\n",
              "  function render(props, node) {\n",
              "    var script = document.createElement(\"script\");\n",
              "    node.appendChild(script);\n",
              "  }\n",
              "\n",
              "  /**\n",
              "   * Handle when an output is cleared or removed\n",
              "   */\n",
              "  function handleClearOutput(event, handle) {\n",
              "    var cell = handle.cell;\n",
              "\n",
              "    var id = cell.output_area._bokeh_element_id;\n",
              "    var server_id = cell.output_area._bokeh_server_id;\n",
              "    // Clean up Bokeh references\n",
              "    if (id != null && id in Bokeh.index) {\n",
              "      Bokeh.index[id].model.document.clear();\n",
              "      delete Bokeh.index[id];\n",
              "    }\n",
              "\n",
              "    if (server_id !== undefined) {\n",
              "      // Clean up Bokeh references\n",
              "      var cmd = \"from bokeh.io.state import curstate; print(curstate().uuid_to_server['\" + server_id + \"'].get_sessions()[0].document.roots[0]._id)\";\n",
              "      cell.notebook.kernel.execute(cmd, {\n",
              "        iopub: {\n",
              "          output: function(msg) {\n",
              "            var id = msg.content.text.trim();\n",
              "            if (id in Bokeh.index) {\n",
              "              Bokeh.index[id].model.document.clear();\n",
              "              delete Bokeh.index[id];\n",
              "            }\n",
              "          }\n",
              "        }\n",
              "      });\n",
              "      // Destroy server and session\n",
              "      var cmd = \"import bokeh.io.notebook as ion; ion.destroy_server('\" + server_id + \"')\";\n",
              "      cell.notebook.kernel.execute(cmd);\n",
              "    }\n",
              "  }\n",
              "\n",
              "  /**\n",
              "   * Handle when a new output is added\n",
              "   */\n",
              "  function handleAddOutput(event, handle) {\n",
              "    var output_area = handle.output_area;\n",
              "    var output = handle.output;\n",
              "\n",
              "    // limit handleAddOutput to display_data with EXEC_MIME_TYPE content only\n",
              "    if ((output.output_type != \"display_data\") || (!Object.prototype.hasOwnProperty.call(output.data, EXEC_MIME_TYPE))) {\n",
              "      return\n",
              "    }\n",
              "\n",
              "    var toinsert = output_area.element.find(\".\" + CLASS_NAME.split(' ')[0]);\n",
              "\n",
              "    if (output.metadata[EXEC_MIME_TYPE][\"id\"] !== undefined) {\n",
              "      toinsert[toinsert.length - 1].firstChild.textContent = output.data[JS_MIME_TYPE];\n",
              "      // store reference to embed id on output_area\n",
              "      output_area._bokeh_element_id = output.metadata[EXEC_MIME_TYPE][\"id\"];\n",
              "    }\n",
              "    if (output.metadata[EXEC_MIME_TYPE][\"server_id\"] !== undefined) {\n",
              "      var bk_div = document.createElement(\"div\");\n",
              "      bk_div.innerHTML = output.data[HTML_MIME_TYPE];\n",
              "      var script_attrs = bk_div.children[0].attributes;\n",
              "      for (var i = 0; i < script_attrs.length; i++) {\n",
              "        toinsert[toinsert.length - 1].firstChild.setAttribute(script_attrs[i].name, script_attrs[i].value);\n",
              "        toinsert[toinsert.length - 1].firstChild.textContent = bk_div.children[0].textContent\n",
              "      }\n",
              "      // store reference to server id on output_area\n",
              "      output_area._bokeh_server_id = output.metadata[EXEC_MIME_TYPE][\"server_id\"];\n",
              "    }\n",
              "  }\n",
              "\n",
              "  function register_renderer(events, OutputArea) {\n",
              "\n",
              "    function append_mime(data, metadata, element) {\n",
              "      // create a DOM node to render to\n",
              "      var toinsert = this.create_output_subarea(\n",
              "        metadata,\n",
              "        CLASS_NAME,\n",
              "        EXEC_MIME_TYPE\n",
              "      );\n",
              "      this.keyboard_manager.register_events(toinsert);\n",
              "      // Render to node\n",
              "      var props = {data: data, metadata: metadata[EXEC_MIME_TYPE]};\n",
              "      render(props, toinsert[toinsert.length - 1]);\n",
              "      element.append(toinsert);\n",
              "      return toinsert\n",
              "    }\n",
              "\n",
              "    /* Handle when an output is cleared or removed */\n",
              "    events.on('clear_output.CodeCell', handleClearOutput);\n",
              "    events.on('delete.Cell', handleClearOutput);\n",
              "\n",
              "    /* Handle when a new output is added */\n",
              "    events.on('output_added.OutputArea', handleAddOutput);\n",
              "\n",
              "    /**\n",
              "     * Register the mime type and append_mime function with output_area\n",
              "     */\n",
              "    OutputArea.prototype.register_mime_type(EXEC_MIME_TYPE, append_mime, {\n",
              "      /* Is output safe? */\n",
              "      safe: true,\n",
              "      /* Index of renderer in `output_area.display_order` */\n",
              "      index: 0\n",
              "    });\n",
              "  }\n",
              "\n",
              "  // register the mime type if in Jupyter Notebook environment and previously unregistered\n",
              "  if (root.Jupyter !== undefined) {\n",
              "    var events = require('base/js/events');\n",
              "    var OutputArea = require('notebook/js/outputarea').OutputArea;\n",
              "\n",
              "    if (OutputArea.prototype.mime_types().indexOf(EXEC_MIME_TYPE) == -1) {\n",
              "      register_renderer(events, OutputArea);\n",
              "    }\n",
              "  }\n",
              "\n",
              "  \n",
              "  if (typeof (root._bokeh_timeout) === \"undefined\" || force === true) {\n",
              "    root._bokeh_timeout = Date.now() + 5000;\n",
              "    root._bokeh_failed_load = false;\n",
              "  }\n",
              "\n",
              "  var NB_LOAD_WARNING = {'data': {'text/html':\n",
              "     \"<div style='background-color: #fdd'>\\n\"+\n",
              "     \"<p>\\n\"+\n",
              "     \"BokehJS does not appear to have successfully loaded. If loading BokehJS from CDN, this \\n\"+\n",
              "     \"may be due to a slow or bad network connection. Possible fixes:\\n\"+\n",
              "     \"</p>\\n\"+\n",
              "     \"<ul>\\n\"+\n",
              "     \"<li>re-rerun `output_notebook()` to attempt to load from CDN again, or</li>\\n\"+\n",
              "     \"<li>use INLINE resources instead, as so:</li>\\n\"+\n",
              "     \"</ul>\\n\"+\n",
              "     \"<code>\\n\"+\n",
              "     \"from bokeh.resources import INLINE\\n\"+\n",
              "     \"output_notebook(resources=INLINE)\\n\"+\n",
              "     \"</code>\\n\"+\n",
              "     \"</div>\"}};\n",
              "\n",
              "  function display_loaded() {\n",
              "    var el = document.getElementById(null);\n",
              "    if (el != null) {\n",
              "      el.textContent = \"BokehJS is loading...\";\n",
              "    }\n",
              "    if (root.Bokeh !== undefined) {\n",
              "      if (el != null) {\n",
              "        el.textContent = \"BokehJS \" + root.Bokeh.version + \" successfully loaded.\";\n",
              "      }\n",
              "    } else if (Date.now() < root._bokeh_timeout) {\n",
              "      setTimeout(display_loaded, 100)\n",
              "    }\n",
              "  }\n",
              "\n",
              "\n",
              "  function run_callbacks() {\n",
              "    try {\n",
              "      root._bokeh_onload_callbacks.forEach(function(callback) {\n",
              "        if (callback != null)\n",
              "          callback();\n",
              "      });\n",
              "    } finally {\n",
              "      delete root._bokeh_onload_callbacks\n",
              "    }\n",
              "    console.debug(\"Bokeh: all callbacks have finished\");\n",
              "  }\n",
              "\n",
              "  function load_libs(css_urls, js_urls, callback) {\n",
              "    if (css_urls == null) css_urls = [];\n",
              "    if (js_urls == null) js_urls = [];\n",
              "\n",
              "    root._bokeh_onload_callbacks.push(callback);\n",
              "    if (root._bokeh_is_loading > 0) {\n",
              "      console.debug(\"Bokeh: BokehJS is being loaded, scheduling callback at\", now());\n",
              "      return null;\n",
              "    }\n",
              "    if (js_urls == null || js_urls.length === 0) {\n",
              "      run_callbacks();\n",
              "      return null;\n",
              "    }\n",
              "    console.debug(\"Bokeh: BokehJS not loaded, scheduling load and callback at\", now());\n",
              "    root._bokeh_is_loading = css_urls.length + js_urls.length;\n",
              "\n",
              "    function on_load() {\n",
              "      root._bokeh_is_loading--;\n",
              "      if (root._bokeh_is_loading === 0) {\n",
              "        console.debug(\"Bokeh: all BokehJS libraries/stylesheets loaded\");\n",
              "        run_callbacks()\n",
              "      }\n",
              "    }\n",
              "\n",
              "    function on_error(url) {\n",
              "      console.error(\"failed to load \" + url);\n",
              "    }\n",
              "\n",
              "    for (let i = 0; i < css_urls.length; i++) {\n",
              "      const url = css_urls[i];\n",
              "      const element = document.createElement(\"link\");\n",
              "      element.onload = on_load;\n",
              "      element.onerror = on_error.bind(null, url);\n",
              "      element.rel = \"stylesheet\";\n",
              "      element.type = \"text/css\";\n",
              "      element.href = url;\n",
              "      console.debug(\"Bokeh: injecting link tag for BokehJS stylesheet: \", url);\n",
              "      document.body.appendChild(element);\n",
              "    }\n",
              "\n",
              "    const hashes = {\"https://cdn.bokeh.org/bokeh/release/bokeh-2.3.2.min.js\": \"XypntL49z55iwGVUW4qsEu83zKL3XEcz0MjuGOQ9SlaaQ68X/g+k1FcioZi7oQAc\", \"https://cdn.bokeh.org/bokeh/release/bokeh-tables-2.3.2.min.js\": \"bEsM86IHGDTLCS0Zod8a8WM6Y4+lafAL/eSiyQcuPzinmWNgNO2/olUF0Z2Dkn5i\", \"https://cdn.bokeh.org/bokeh/release/bokeh-widgets-2.3.2.min.js\": \"TX0gSQTdXTTeScqxj6PVQxTiRW8DOoGVwinyi1D3kxv7wuxQ02XkOxv0xwiypcAH\"};\n",
              "\n",
              "    for (let i = 0; i < js_urls.length; i++) {\n",
              "      const url = js_urls[i];\n",
              "      const element = document.createElement('script');\n",
              "      element.onload = on_load;\n",
              "      element.onerror = on_error.bind(null, url);\n",
              "      element.async = false;\n",
              "      element.src = url;\n",
              "      if (url in hashes) {\n",
              "        element.crossOrigin = \"anonymous\";\n",
              "        element.integrity = \"sha384-\" + hashes[url];\n",
              "      }\n",
              "      console.debug(\"Bokeh: injecting script tag for BokehJS library: \", url);\n",
              "      document.head.appendChild(element);\n",
              "    }\n",
              "  };\n",
              "\n",
              "  function inject_raw_css(css) {\n",
              "    const element = document.createElement(\"style\");\n",
              "    element.appendChild(document.createTextNode(css));\n",
              "    document.body.appendChild(element);\n",
              "  }\n",
              "\n",
              "  \n",
              "  var js_urls = [\"https://unpkg.com/tabulator-tables@4.9.3/dist/js/tabulator.js\", \"https://unpkg.com/moment@2.27.0/moment.js\", \"https://cdn.bokeh.org/bokeh/release/bokeh-2.3.2.min.js\", \"https://cdn.bokeh.org/bokeh/release/bokeh-widgets-2.3.2.min.js\", \"https://cdn.bokeh.org/bokeh/release/bokeh-tables-2.3.2.min.js\", \"https://unpkg.com/@holoviz/panel@^0.11.3/dist/panel.min.js\"];\n",
              "  var css_urls = [\"https://unpkg.com/tabulator-tables@4.9.3/dist/css/tabulator_simple.min.css\"];\n",
              "  \n",
              "\n",
              "  var inline_js = [\n",
              "    function(Bokeh) {\n",
              "      Bokeh.set_log_level(\"info\");\n",
              "    },\n",
              "    function(Bokeh) {\n",
              "    \n",
              "    \n",
              "    }\n",
              "  ];\n",
              "\n",
              "  function run_inline_js() {\n",
              "    \n",
              "    if (root.Bokeh !== undefined || force === true) {\n",
              "      \n",
              "    for (var i = 0; i < inline_js.length; i++) {\n",
              "      inline_js[i].call(root, root.Bokeh);\n",
              "    }\n",
              "    } else if (Date.now() < root._bokeh_timeout) {\n",
              "      setTimeout(run_inline_js, 100);\n",
              "    } else if (!root._bokeh_failed_load) {\n",
              "      console.log(\"Bokeh: BokehJS failed to load within specified timeout.\");\n",
              "      root._bokeh_failed_load = true;\n",
              "    } else if (force !== true) {\n",
              "      var cell = $(document.getElementById(null)).parents('.cell').data().cell;\n",
              "      cell.output_area.append_execute_result(NB_LOAD_WARNING)\n",
              "    }\n",
              "\n",
              "  }\n",
              "\n",
              "  if (root._bokeh_is_loading === 0) {\n",
              "    console.debug(\"Bokeh: BokehJS loaded, going straight to plotting\");\n",
              "    run_inline_js();\n",
              "  } else {\n",
              "    load_libs(css_urls, js_urls, function() {\n",
              "      console.debug(\"Bokeh: BokehJS plotting callback run at\", now());\n",
              "      run_inline_js();\n",
              "    });\n",
              "  }\n",
              "}(window));"
            ],
            "application/vnd.bokehjs_load.v0+json": "\n(function(root) {\n  function now() {\n    return new Date();\n  }\n\n  var force = true;\n\n  if (typeof root._bokeh_onload_callbacks === \"undefined\" || force === true) {\n    root._bokeh_onload_callbacks = [];\n    root._bokeh_is_loading = undefined;\n  }\n\n  \n\n  \n  if (typeof (root._bokeh_timeout) === \"undefined\" || force === true) {\n    root._bokeh_timeout = Date.now() + 5000;\n    root._bokeh_failed_load = false;\n  }\n\n  var NB_LOAD_WARNING = {'data': {'text/html':\n     \"<div style='background-color: #fdd'>\\n\"+\n     \"<p>\\n\"+\n     \"BokehJS does not appear to have successfully loaded. If loading BokehJS from CDN, this \\n\"+\n     \"may be due to a slow or bad network connection. Possible fixes:\\n\"+\n     \"</p>\\n\"+\n     \"<ul>\\n\"+\n     \"<li>re-rerun `output_notebook()` to attempt to load from CDN again, or</li>\\n\"+\n     \"<li>use INLINE resources instead, as so:</li>\\n\"+\n     \"</ul>\\n\"+\n     \"<code>\\n\"+\n     \"from bokeh.resources import INLINE\\n\"+\n     \"output_notebook(resources=INLINE)\\n\"+\n     \"</code>\\n\"+\n     \"</div>\"}};\n\n  function display_loaded() {\n    var el = document.getElementById(null);\n    if (el != null) {\n      el.textContent = \"BokehJS is loading...\";\n    }\n    if (root.Bokeh !== undefined) {\n      if (el != null) {\n        el.textContent = \"BokehJS \" + root.Bokeh.version + \" successfully loaded.\";\n      }\n    } else if (Date.now() < root._bokeh_timeout) {\n      setTimeout(display_loaded, 100)\n    }\n  }\n\n\n  function run_callbacks() {\n    try {\n      root._bokeh_onload_callbacks.forEach(function(callback) {\n        if (callback != null)\n          callback();\n      });\n    } finally {\n      delete root._bokeh_onload_callbacks\n    }\n    console.debug(\"Bokeh: all callbacks have finished\");\n  }\n\n  function load_libs(css_urls, js_urls, callback) {\n    if (css_urls == null) css_urls = [];\n    if (js_urls == null) js_urls = [];\n\n    root._bokeh_onload_callbacks.push(callback);\n    if (root._bokeh_is_loading > 0) {\n      console.debug(\"Bokeh: BokehJS is being loaded, scheduling callback at\", now());\n      return null;\n    }\n    if (js_urls == null || js_urls.length === 0) {\n      run_callbacks();\n      return null;\n    }\n    console.debug(\"Bokeh: BokehJS not loaded, scheduling load and callback at\", now());\n    root._bokeh_is_loading = css_urls.length + js_urls.length;\n\n    function on_load() {\n      root._bokeh_is_loading--;\n      if (root._bokeh_is_loading === 0) {\n        console.debug(\"Bokeh: all BokehJS libraries/stylesheets loaded\");\n        run_callbacks()\n      }\n    }\n\n    function on_error(url) {\n      console.error(\"failed to load \" + url);\n    }\n\n    for (let i = 0; i < css_urls.length; i++) {\n      const url = css_urls[i];\n      const element = document.createElement(\"link\");\n      element.onload = on_load;\n      element.onerror = on_error.bind(null, url);\n      element.rel = \"stylesheet\";\n      element.type = \"text/css\";\n      element.href = url;\n      console.debug(\"Bokeh: injecting link tag for BokehJS stylesheet: \", url);\n      document.body.appendChild(element);\n    }\n\n    const hashes = {\"https://cdn.bokeh.org/bokeh/release/bokeh-2.3.2.min.js\": \"XypntL49z55iwGVUW4qsEu83zKL3XEcz0MjuGOQ9SlaaQ68X/g+k1FcioZi7oQAc\", \"https://cdn.bokeh.org/bokeh/release/bokeh-tables-2.3.2.min.js\": \"bEsM86IHGDTLCS0Zod8a8WM6Y4+lafAL/eSiyQcuPzinmWNgNO2/olUF0Z2Dkn5i\", \"https://cdn.bokeh.org/bokeh/release/bokeh-widgets-2.3.2.min.js\": \"TX0gSQTdXTTeScqxj6PVQxTiRW8DOoGVwinyi1D3kxv7wuxQ02XkOxv0xwiypcAH\"};\n\n    for (let i = 0; i < js_urls.length; i++) {\n      const url = js_urls[i];\n      const element = document.createElement('script');\n      element.onload = on_load;\n      element.onerror = on_error.bind(null, url);\n      element.async = false;\n      element.src = url;\n      if (url in hashes) {\n        element.crossOrigin = \"anonymous\";\n        element.integrity = \"sha384-\" + hashes[url];\n      }\n      console.debug(\"Bokeh: injecting script tag for BokehJS library: \", url);\n      document.head.appendChild(element);\n    }\n  };\n\n  function inject_raw_css(css) {\n    const element = document.createElement(\"style\");\n    element.appendChild(document.createTextNode(css));\n    document.body.appendChild(element);\n  }\n\n  \n  var js_urls = [\"https://unpkg.com/tabulator-tables@4.9.3/dist/js/tabulator.js\", \"https://unpkg.com/moment@2.27.0/moment.js\", \"https://cdn.bokeh.org/bokeh/release/bokeh-2.3.2.min.js\", \"https://cdn.bokeh.org/bokeh/release/bokeh-widgets-2.3.2.min.js\", \"https://cdn.bokeh.org/bokeh/release/bokeh-tables-2.3.2.min.js\", \"https://unpkg.com/@holoviz/panel@^0.11.3/dist/panel.min.js\"];\n  var css_urls = [\"https://unpkg.com/tabulator-tables@4.9.3/dist/css/tabulator_simple.min.css\"];\n  \n\n  var inline_js = [\n    function(Bokeh) {\n      Bokeh.set_log_level(\"info\");\n    },\n    function(Bokeh) {\n    \n    \n    }\n  ];\n\n  function run_inline_js() {\n    \n    if (root.Bokeh !== undefined || force === true) {\n      \n    for (var i = 0; i < inline_js.length; i++) {\n      inline_js[i].call(root, root.Bokeh);\n    }\n    } else if (Date.now() < root._bokeh_timeout) {\n      setTimeout(run_inline_js, 100);\n    } else if (!root._bokeh_failed_load) {\n      console.log(\"Bokeh: BokehJS failed to load within specified timeout.\");\n      root._bokeh_failed_load = true;\n    } else if (force !== true) {\n      var cell = $(document.getElementById(null)).parents('.cell').data().cell;\n      cell.output_area.append_execute_result(NB_LOAD_WARNING)\n    }\n\n  }\n\n  if (root._bokeh_is_loading === 0) {\n    console.debug(\"Bokeh: BokehJS loaded, going straight to plotting\");\n    run_inline_js();\n  } else {\n    load_libs(css_urls, js_urls, function() {\n      console.debug(\"Bokeh: BokehJS plotting callback run at\", now());\n      run_inline_js();\n    });\n  }\n}(window));"
          },
          "metadata": {
            "tags": []
          }
        },
        {
          "output_type": "display_data",
          "data": {
            "text/html": [
              "\n",
              "\n",
              "\n",
              "\n",
              "\n",
              "\n",
              "  <div class=\"bk-root\" id=\"b7ee25b3-9663-49fc-afe8-4a8516ab8757\" data-root-id=\"1003\"></div>\n"
            ]
          },
          "metadata": {
            "tags": []
          }
        },
        {
          "output_type": "display_data",
          "data": {
            "application/javascript": [
              "(function(root) {\n",
              "  function embed_document(root) {\n",
              "    \n",
              "  var docs_json = {\"ccc8c15c-56d4-487d-a1b8-eb02be2cb532\":{\"defs\":[],\"roots\":{\"references\":[{\"attributes\":{\"background_fill_color\":\"black\",\"below\":[{\"id\":\"1012\"}],\"center\":[{\"id\":\"1015\"},{\"id\":\"1019\"}],\"height\":800,\"left\":[{\"id\":\"1016\"}],\"renderers\":[{\"id\":\"1039\"}],\"title\":{\"id\":\"1041\"},\"toolbar\":{\"id\":\"1028\"},\"width\":800,\"x_range\":{\"id\":\"1004\"},\"x_scale\":{\"id\":\"1008\"},\"y_range\":{\"id\":\"1006\"},\"y_scale\":{\"id\":\"1010\"}},\"id\":\"1003\",\"subtype\":\"Figure\",\"type\":\"Plot\"},{\"attributes\":{},\"id\":\"1044\",\"type\":\"AllLabels\"},{\"attributes\":{},\"id\":\"1017\",\"type\":\"BasicTicker\"},{\"attributes\":{},\"id\":\"1048\",\"type\":\"BasicTickFormatter\"},{\"attributes\":{},\"id\":\"1006\",\"type\":\"DataRange1d\"},{\"attributes\":{\"formatter\":{\"id\":\"1045\"},\"major_label_policy\":{\"id\":\"1044\"},\"ticker\":{\"id\":\"1017\"},\"visible\":false},\"id\":\"1016\",\"type\":\"LinearAxis\"},{\"attributes\":{\"data\":{\"alpha\":[1,1,1,1,1,1,1,1,1,1,1,1,1,1,1,1,1,1,1,1,1,1,1,1,1,1,1,1,1,1,1,1,1,1,1,1,1,1,1,1,1,1,1,1,1,1,1,1,1,1,1,1,1,1,1,1,1,1,1,1,1,1,1,1,1,1,1,1,1,1,1,1,1,1,1,1,1,1,1,1,1,1,1,1,1,1,1,1,1,1,1,1,1,1,1,1,1,1,1,1,1,1,1,1,1,1,1,1,1,1,1,1,1,1,1,1,1,1,1,1,1,1,1,1,1,1,1,1,1,1,1,1,1,1,1,1,1,1,1,1,1,1,1,1,1,1,1,1,1,1,1,1,1,1,1,1,1,1,1,1,1,1,1,1,1,1,1,1,1,1,1,1,1,1,1,1,1,1,1,1,1,1,1],\"color\":[\"#5e4fa2\",\"#5e4fa2\",\"#5e4fa2\",\"#9e0142\",\"#9e0142\",\"#9e0142\",\"#9e0142\",\"#5e4fa2\",\"#9e0142\",\"#9e0142\",\"#9e0142\",\"#9e0142\",\"#5e4fa2\",\"#9e0142\",\"#9e0142\",\"#5e4fa2\",\"#5e4fa2\",\"#9e0142\",\"#5e4fa2\",\"#5e4fa2\",\"#9e0142\",\"#5e4fa2\",\"#9e0142\",\"#5e4fa2\",\"#5e4fa2\",\"#5e4fa2\",\"#5e4fa2\",\"#5e4fa2\",\"#5e4fa2\",\"#5e4fa2\",\"#9e0142\",\"#5e4fa2\",\"#9e0142\",\"#5e4fa2\",\"#5e4fa2\",\"#5e4fa2\",\"#9e0142\",\"#9e0142\",\"#9e0142\",\"#5e4fa2\",\"#5e4fa2\",\"#9e0142\",\"#9e0142\",\"#5e4fa2\",\"#9e0142\",\"#5e4fa2\",\"#5e4fa2\",\"#9e0142\",\"#9e0142\",\"#5e4fa2\",\"#5e4fa2\",\"#5e4fa2\",\"#5e4fa2\",\"#5e4fa2\",\"#5e4fa2\",\"#5e4fa2\",\"#9e0142\",\"#9e0142\",\"#9e0142\",\"#9e0142\",\"#9e0142\",\"#9e0142\",\"#5e4fa2\",\"#9e0142\",\"#5e4fa2\",\"#5e4fa2\",\"#5e4fa2\",\"#9e0142\",\"#9e0142\",\"#9e0142\",\"#9e0142\",\"#9e0142\",\"#5e4fa2\",\"#5e4fa2\",\"#5e4fa2\",\"#5e4fa2\",\"#9e0142\",\"#5e4fa2\",\"#5e4fa2\",\"#5e4fa2\",\"#9e0142\",\"#5e4fa2\",\"#9e0142\",\"#5e4fa2\",\"#9e0142\",\"#5e4fa2\",\"#5e4fa2\",\"#5e4fa2\",\"#5e4fa2\",\"#5e4fa2\",\"#5e4fa2\",\"#9e0142\",\"#9e0142\",\"#5e4fa2\",\"#5e4fa2\",\"#5e4fa2\",\"#9e0142\",\"#5e4fa2\",\"#5e4fa2\",\"#9e0142\",\"#5e4fa2\",\"#5e4fa2\",\"#9e0142\",\"#5e4fa2\",\"#9e0142\",\"#5e4fa2\",\"#5e4fa2\",\"#9e0142\",\"#9e0142\",\"#5e4fa2\",\"#5e4fa2\",\"#9e0142\",\"#5e4fa2\",\"#5e4fa2\",\"#5e4fa2\",\"#5e4fa2\",\"#9e0142\",\"#5e4fa2\",\"#9e0142\",\"#9e0142\",\"#9e0142\",\"#5e4fa2\",\"#9e0142\",\"#5e4fa2\",\"#5e4fa2\",\"#9e0142\",\"#9e0142\",\"#5e4fa2\",\"#5e4fa2\",\"#9e0142\",\"#5e4fa2\",\"#9e0142\",\"#9e0142\",\"#9e0142\",\"#9e0142\",\"#5e4fa2\",\"#9e0142\",\"#5e4fa2\",\"#9e0142\",\"#5e4fa2\",\"#9e0142\",\"#9e0142\",\"#5e4fa2\",\"#9e0142\",\"#5e4fa2\",\"#5e4fa2\",\"#9e0142\",\"#9e0142\",\"#9e0142\",\"#9e0142\",\"#5e4fa2\",\"#5e4fa2\",\"#9e0142\",\"#9e0142\",\"#9e0142\",\"#9e0142\",\"#5e4fa2\",\"#9e0142\",\"#5e4fa2\",\"#9e0142\",\"#9e0142\",\"#9e0142\",\"#5e4fa2\",\"#9e0142\",\"#9e0142\",\"#5e4fa2\",\"#5e4fa2\",\"#5e4fa2\",\"#5e4fa2\",\"#5e4fa2\",\"#5e4fa2\",\"#9e0142\",\"#5e4fa2\",\"#9e0142\",\"#5e4fa2\",\"#9e0142\",\"#9e0142\",\"#9e0142\",\"#9e0142\",\"#5e4fa2\",\"#5e4fa2\",\"#5e4fa2\",\"#9e0142\"],\"index\":[0,1,2,3,4,5,6,7,8,9,10,11,12,13,14,15,16,17,18,19,20,21,22,23,24,25,26,27,28,29,30,31,32,33,34,35,36,37,38,39,40,41,42,43,44,45,46,47,48,49,50,51,52,53,54,55,56,57,58,59,60,61,62,63,64,65,66,67,68,69,70,71,72,73,74,75,76,77,78,79,80,81,82,83,84,85,86,87,88,89,90,91,92,93,94,95,96,97,98,99,100,101,102,103,104,105,106,107,108,109,110,111,112,113,114,115,116,117,118,119,120,121,122,123,124,125,126,127,128,129,130,131,132,133,134,135,136,137,138,139,140,141,142,143,144,145,146,147,148,149,150,151,152,153,154,155,156,157,158,159,160,161,162,163,164,165,166,167,168,169,170,171,172,173,174,175,176,177,178,179,180,181,182],\"label\":[true,true,true,false,false,false,false,true,false,false,false,false,true,false,false,true,true,false,true,true,false,true,false,true,true,true,true,true,true,true,false,true,false,true,true,true,false,false,false,true,true,false,false,true,false,true,true,false,false,true,true,true,true,true,true,true,false,false,false,false,false,false,true,false,true,true,true,false,false,false,false,false,true,true,true,true,false,true,true,true,false,true,false,true,false,true,true,true,true,true,true,false,false,true,true,true,false,true,true,false,true,true,false,true,false,true,true,false,false,true,true,false,true,true,true,true,false,true,false,false,false,true,false,true,true,false,false,true,true,false,true,false,false,false,false,true,false,true,false,true,false,false,true,false,true,true,false,false,false,false,true,true,false,false,false,false,true,false,true,false,false,false,true,false,false,true,true,true,true,true,true,false,true,false,true,false,false,false,false,true,true,true,false],\"seq_type\":[true,true,true,false,false,false,false,true,false,false,false,false,true,false,false,true,true,false,true,true,false,true,false,true,true,true,true,true,true,true,false,true,false,true,true,true,false,false,false,true,true,false,false,true,false,true,true,false,false,true,true,true,true,true,true,true,false,false,false,false,false,false,true,false,true,true,true,false,false,false,false,false,true,true,true,true,false,true,true,true,false,true,false,true,false,true,true,true,true,true,true,false,false,true,true,true,false,true,true,false,true,true,false,true,false,true,true,false,false,true,true,false,true,true,true,true,false,true,false,false,false,true,false,true,true,false,false,true,true,false,true,false,false,false,false,true,false,true,false,true,false,false,true,false,true,true,false,false,false,false,true,true,false,false,false,false,true,false,true,false,false,false,true,false,false,true,true,true,true,true,true,false,true,false,true,false,false,false,false,true,true,true,false],\"sequence_name\":[\">RS_GCF_002252665.1~NZ_NQKZ01000036.1\",\">RS_GCF_900088535.1~NZ_LT578417.1\",\">RS_GCF_900088535.1~NZ_LT578417.1-#2\",\">RS_GCF_900088535.1~NZ_LT578417.1-#3\",\">RS_GCF_000155635.1~NZ_DS990556.1\",\">RS_GCF_000155635.1~NZ_DS990556.1-#3\",\">RS_GCF_003011885.1~NZ_PXXO01000003.1\",\">RS_GCF_001039265.1~NZ_LFEK01000082.1\",\">RS_GCF_001039265.1~NZ_LFEK01000058.1\",\">RS_GCF_001039265.1~NZ_LFEK01000088.1\",\">RS_GCF_001039265.1~NZ_LFEK01000052.1\",\">GB_GCA_003214715.1~QCLH01000009.1\",\">GB_GCA_003211895.1~QCRJ01000034.1\",\">RS_GCF_000012465.1~NC_007335.2\",\">RS_GCF_003208065.1~NZ_QJUF01000003.1\",\">GB_GCA_003279495.1~QCHS01000023.1\",\">GB_GCA_003214875.1~QCLB01000003.1\",\">RS_GCF_000015685.1~NC_008819.1\",\">GB_GCA_003210675.1~QCUO01000004.1\",\">GB_GCA_003279795.1~QCGT01000019.1\",\">GB_GCA_003331715.1~QOPN01000028.1\",\">GB_GCA_003279745.1~QCGS01000016.1\",\">RS_GCF_000760235.1~NZ_JNAX01000012.1\",\">GB_GCA_003211155.1~QCTM01000016.1\",\">GB_GCA_003216375.1~QCIZ01000018.1\",\">GB_GCA_003216935.1~QCIA01000003.1\",\">GB_GCA_003278015.1~QCHJ01000003.1\",\">GB_GCA_003216515.1~QCIT01000007.1\",\">GB_GCA_003216675.1~QCIN01000004.1\",\">GB_GCA_003278005.1~QCHL01000017.1\",\">GB_GCA_003279635.1~QCHK01000004.1\",\">GB_GCA_003216995.1~QCHX01000001.1\",\">GB_GCA_003279505.1~QCHP01000034.1\",\">GB_GCA_003279615.1~QCHM01000009.1\",\">GB_GCA_003216975.1~QCHY01000006.1\",\">GB_GCA_003216275.1~QCJC01000002.1\",\">GB_GCA_003216955.1~QCHZ01000005.1\",\">GB_GCA_003216815.1~QCIG01000011.1\",\">GB_GCA_003279565.1~QCHN01000004.1\",\">GB_GCA_003212625.1~QCPI01000010.1\",\">GB_GCA_003216295.1~QCJB01000018.1\",\">GB_GCA_003278445.1~QCFD01000001.1\",\">GB_GCA_003208055.1~QJUE01000002.1\",\">GB_GCA_003216575.1~QCIR01000013.1\",\">RS_GCF_000757865.1~NZ_CP007754.1\",\">GB_GCA_003215315.1~QCKO01000004.1\",\">GB_GCA_003284185.1~QBWB01000032.1\",\">GB_GCA_003277985.1~QCHR01000039.1\",\">GB_GCA_003209755.1~QCPD01000015.1\",\">GB_GCA_003215895.1~QCJR01000004.1\",\">GB_GCA_003213355.1~QCND01000007.1\",\">GB_GCA_003279655.1~QCHI01000020.1\",\">GB_GCA_003280445.1~QCEW01000014.1\",\">GB_GCA_003216895.1~QCID01000005.1\",\">GB_GCA_003284445.1~QBVH01000008.1\",\">GB_GCA_003283685.1~QBWD01000002.1\",\">GB_GCA_003216175.1~QCJG01000004.1\",\">GB_GCA_003284375.1~QBVL01000015.1\",\">RS_GCF_001632075.1~NZ_LVHP01000015.1\",\">GB_GCA_001632045.1~LVHO01000011.1\",\">RS_GCF_001632145.1~NZ_LVHS01000012.1\",\">GB_GCA_000015705.1~CP000554.1\",\">GB_GCA_000015705.1~CP000554.1-#2\",\">GB_GCA_003212455.1~QCPR01000015.1\",\">GB_GCA_003214755.1~QCLF01000008.1\",\">RS_GCF_001631985.1~NZ_LVHL01000003.1\",\">GB_GCA_001632125.1~LVHR01000016.1\",\">GB_GCA_001632005.1~LVHM01000019.1\",\">RS_GCF_001632025.1~NZ_LVHQ01000011.1\",\">RS_GCF_001631965.1~NZ_LVHK01000009.1\",\">GB_GCA_001632065.1~LVHN01000025.1\",\">RS_GCF_000011485.1~NC_005071.1-#2\",\">RS_GCF_000011485.1~NC_005071.1\",\">RS_GCF_000760335.1~NZ_JNBC01000051.1\",\">RS_GCF_000760315.1~NZ_JNBB01000057.1\",\">RS_GCF_000760295.1~NZ_JNBA01000052.1\",\">RS_GCF_900473895.1~NZ_UCND01000009.1\",\">RS_GCF_900474085.1~NZ_UCNU01000018.1\",\">GB_GCA_001628295.1~LURJ01000023.1\",\">RS_GCF_900473975.1~NZ_UCNM01000013.1\",\">RS_GCF_000737575.1~NZ_CP006270.1\",\">RS_GCF_000737575.1~NZ_CP006270.1-#2\",\">RS_GCF_000012505.1~NC_007513.1\",\">RS_GCF_000012505.1~NC_007513.1-#2\",\">GB_GCA_003210515.1~QCVC01000001.1\",\">GB_GCA_003210735.1~QCUM01000007.1\",\">GB_GCA_003209035.1~QCTH01000067.1\",\">RS_GCF_000195975.1~NC_005070.1\",\">RS_GCF_000195975.1~NC_005070.1-#2\",\">RS_GCF_001182765.1~NZ_LN847356.1\",\">RS_GCF_001182765.1~NZ_LN847356.1-#2\",\">GB_GCA_003712085.1~RHLE01000016.1\",\">GB_GCA_003210375.1~QCVM01000001.1\",\">GB_GCA_003208835.1~QCVD01000006.1\",\">RS_GCF_900474185.1~NZ_UCNW01000001.1\",\">RS_GCF_000515235.1~NZ_KI911558.1\",\">RS_GCF_000153805.1~NZ_DS022298.1-#2\",\">RS_GCF_000153805.1~NZ_DS022298.1\",\">GB_GCA_003211235.1~QCTG01000001.1\",\">RS_GCF_000161795.2~NZ_CP006882.1-#2\",\">RS_GCF_000161795.2~NZ_CP006882.1\",\">GB_GCA_004212765.1~SHBS01000029.1\",\">GB_GCA_003210795.1~QCUJ01000070.1\",\">RS_GCF_000737535.1~NZ_CP006269.1\",\">RS_GCF_000012625.1~NC_007516.1\",\">RS_GCF_000012625.1~NC_007516.1-#2\",\">GB_GCA_003211515.1~QCSN01000014.1\",\">RS_GCF_000737595.1~NZ_CP006271.1-#3\",\">RS_GCF_000737595.1~NZ_CP006271.1-#2\",\">RS_GCF_000737595.1~NZ_CP006271.1\",\">GB_GCA_003209165.1~QCSL01000074.1\",\">GB_GCA_003211535.1~QCSJ01000006.1\",\">GB_GCA_003208775.1~QCVK01000001.1\",\">GB_GCA_003210995.1~QCTV01000011.1\",\">GB_GCA_003210705.1~QCUN01000016.1\",\">GB_GCA_003211275.1~QCTE01000057.1\",\">GB_GCA_003210475.1~QCVF01000009.1\",\">GB_GCA_003209155.1~QCSO01000042.1\",\">GB_GCA_003210815.1~QCUH01000007.1\",\">GB_GCA_003211015.1~QCTU01000056.1\",\">GB_GCA_003209005.1~QCTI01000005.1\",\">RS_GCF_900473955.1~NZ_UCNL01000012.1\",\">GB_GCA_003210935.1~QCTX01000005.1\",\">RS_GCF_001632165.1~NZ_LVHU01000023.1\",\">GB_GCA_002702445.1~NZZL01000029.1\",\">GB_GCA_003210755.1~QCUL01000029.1\",\">RS_GCF_900473935.1~NZ_UCNN01000021.1\",\">RS_GCF_000230675.1~NZ_AGIK01000004.1\",\">RS_GCF_900474245.1~NZ_UCNZ01000014.1\",\">RS_GCF_004332415.1~NZ_PHQT01000007.1\",\">RS_GCF_004332405.1~NZ_PHQU01000008.1\",\">RS_GCF_001632105.1~NZ_LVHT01000025.1\",\">RS_GCF_001631935.1~NZ_LVHV01000022.1\",\">RS_GCF_000153065.1~NZ_CH724158.1\",\">GB_GCA_003210315.1~QCVQ01000005.1\",\">RS_GCF_000014585.1~NC_008319.1\",\">RS_GCF_000014585.1~NC_008319.1-#2\",\">RS_GCF_000153825.1~NZ_DS022299.1\",\">RS_GCF_000153825.1~NZ_DS022299.1-#2\",\">RS_GCF_001040845.1~NZ_CP011941.1\",\">GB_GCA_003210775.1~QCUI01000054.1\",\">RS_GCF_000063505.1~NC_009481.1\",\">RS_GCF_000063505.1~NC_009481.1-#2\",\">RS_GCF_004209775.1~NZ_CP035914.1\",\">RS_GCF_004209775.1~NZ_CP035914.1-#2\",\">RS_GCF_900473965.1~NZ_UCNJ01000026.1\",\">GB_GCA_003211205.1~QCTJ01000003.1\",\">RS_GCF_900474295.1~NZ_UCOB01000013.1\",\">GB_GCA_003210555.1~QCUZ01000071.1\",\">RS_GCF_000153285.1~NZ_CH724168.1\",\">RS_GCF_000153285.1~NZ_CH724168.1-#2\",\">RS_GCF_000760155.1~NZ_JNAT01000010.1\",\">RS_GCF_000760275.1~NZ_JNAZ01000008.1\",\">RS_GCF_000007925.1~NC_005042.1\",\">RS_GCF_000760355.1~NZ_JNBD01000003.1\",\">RS_GCF_000760355.1~NZ_JNBD01000012.1\",\">RS_GCF_000760375.1~NZ_JNBE01000008.1\",\">RS_GCF_000760255.1~NZ_JNAY01000018.1\",\">RS_GCF_000760195.1~NZ_JNAV01000002.1\",\">RS_GCF_000760215.1~NZ_JNAW01000001.1\",\">RS_GCF_000760215.1~NZ_JNAW01000002.1\",\">GB_GCA_003212515.1~QCPL01000002.1\",\">GB_GCA_003280255.1~QCFM01000022.1\",\">GB_GCA_003209775.1~QCPN01000004.1\",\">GB_GCA_003279445.1~QCHT01000004.1\",\">GB_GCA_003278345.1~QCFH01000019.1\",\">GB_GCA_003278345.1~QCFH01000035.1\",\">GB_GCA_003215555.1~QCKE01000004.1\",\">GB_GCA_003212555.1~QCPK01000010.1\",\">GB_GCA_003215475.1~QCKH01000002.1\",\">GB_GCA_003212695.1~QCPC01000004.1\",\">GB_GCA_003215795.1~QCJV01000007.1\",\">GB_GCA_003278425.1~QCFE01000003.1\",\">GB_GCA_003249045.1~QBMM01000021.1\",\">RS_GCF_002252635.1~NZ_NQKX01000015.1\",\">GB_GCA_003248995.1~QBMG01000124.1\",\">GB_GCA_003249115.1~QBMD01000116.1\",\">RS_GCF_000153045.1~NZ_CH724160.1\",\">RS_GCF_000153045.1~NZ_CH724159.1\",\">RS_GCF_000153045.1~NZ_CH724160.1-#2\",\">RS_GCF_002252625.1~NZ_NQKW01000044.1\",\">RS_GCF_001885215.1~NZ_CP018091.1-#2\",\">RS_GCF_001885215.1~NZ_CP018091.1\"],\"x\":{\"__ndarray__\":\"qa0AQSXoAUEjUgRBkH/BwAThxMBnkcHAZ0O3wHnMBEF2FbPAEs60wKe6scC0vK3A1kOfQGvArcDt7KvAIwOkQKNImUChrLLASzGmQCFUpEAkHIzAC6yjQEznrsDme5VAk3OVQM9smUCr751AbRKdQArcmEAonZZA/t6kwJawqUAc6p/A3HSxQGnslkCAc7ZACxCjwCntpcAjIavAN4y2QKpwq0AwOqzA0xGywPMzo0AlvafAjZPYQF5CsEB6yq7AfCurwG5xm0DLwaFAKDi0QKeVn0AIrJpA+xufQH59s0Ar16bAGRejwFxzqsAgcKzABJigwObimsDMTwVBrCCbwJaQA0F0+QdB4P8GQRaxncBDPKDACjacwEeNqMC5O6zA9KQDQRuKBEGoFgNBKvADQQfIlsDaARBBgx+wQJJCD0EIuInANlwOQTFfhMByggtBoc2EwC3lBEGWZghBYjAQQdPVEUEoTw5B2tgMQa5CjcBvk4nA4agMQWQeBkEOfw9Bem+PwK6S5kDLaAdBBdCGwPo8EkGD6ONAmaWDwKMFEEG4yYHA1jERQcWSCkGGSorAWTaIwFygDEFw1w1BZlGGwNMdDEEuqhdB+gkZQUC7F0F2Mb/AeCwVQVZmusDU6sDABO66wGHOGUHj1b7AL9AVQVhC30DPfpnAjU2rwAQjDkHGXN9Aq7unwN9TE0GZyMHACEi+wGC8rsBD1qHAXWYNQcJ+oMAJRAZB8oCMwDwSC0HcwcLAdzS2wPmxFkExUqrAOm8IQahqF0HzBbrAHDKswFAAnMBEJbfAG1IXQQJs1EB+YazASU22wLqFr8BmS5PA37XZQL7FsMBEKNxA8WazwAnxocCjA7TAzkPhQBtSq8AS9LTAgYDdQIfV4ECWLuFABCTeQLoC3EDCd+FAxX6xwMcW5ECb7sbApfT+QDLGwsD5f8fAjnzJwNYDyMDVcvtAjln4QA459kAzl8DA\",\"dtype\":\"float32\",\"order\":\"little\",\"shape\":[183]},\"y\":{\"__ndarray__\":\"ds6/QInEuUD8SrpA34jJPhTmED8CL7M+iHqtPoJiuECFBcI+ge7CPl+Vvj6Cq4hAHm4XQQcEeEAmlG5AYiYSQZpDFEF7RoZAOO4YQUgdE0FL5co/Sf8QQdSUhUAbUBtBJS4bQSpgDUEHwhBBrekPQRrwGkHSBBVBAhSCQG+zG0HOYwxAV9QUQSQbGEE15hdBA+9rQDt0gkCPD4BAfKgYQXzSFEGEiXRA7J9jQNW6D0EQjH5ADRcQQZBcE0HMkn5AAe53QC52G0EhyhtBckAXQRNQEUFNghdB54gZQW8TE0ESTG1AM+mAQPWZvD8SlrY/QMNjP6QSlD+909RA2DaAP6CL5kCXa9RA/jnbQMRDgj+OmYg/OD6FPwZKrD/guao/jVjlQKH74kCHJ+VASwjjQAEX7D8Sko1AGXocQc7Kj0BgGH++BeGXQOz1w7wfB4xAqnsjvkXlmUBqp5JAZhOjQHlZoUB1ep5AP6KeQMtuoroUGqO+n9GVQEOil0Dh4Z5AkmYiviJ850AGH5RAZ9QPPrIAlEAvkepAb3XAuqpIwUAPXWe9nmKQQAaxl0CE+Iy+fSmBvYQZmEAZjZNApX9+vPA0tkC1n8tA5BLFQDJtx0BieT6/qx7DQFufHb9eQC6/LE1jvwSJy0CXlVi//kvDQJfX4ECCWRI+ird2vhC0s0CfCfBApqbVvgLct0DpI1m/V61Rv2AGSD0Fe3e9BRC2QCPT5z3uRqhAIFkeP6RFskDSn1G/rfoiv0EwxkClKkK937CsQE7pw0AIUVK/VWChvSREdTxq6AS/XsDHQCE+DkGqqyNAaMIgQES/KUAorghAmKQQQdaHLUBU7gpBRMcsQNLHB0DbkChAw5QOQTrsQkAMvTdAjRPoQFrHB0GM1g1BVlAPQV3IDEE5SA1BXY4pQMP8C0Fqk4A/j9DJQMropz/cXYU//hdNPxvpVj9R3spAf7PJQJePy0CkcZU/\",\"dtype\":\"float32\",\"order\":\"little\",\"shape\":[183]}},\"selected\":{\"id\":\"1049\"},\"selection_policy\":{\"id\":\"1050\"}},\"id\":\"1002\",\"type\":\"ColumnDataSource\"},{\"attributes\":{},\"id\":\"1013\",\"type\":\"BasicTicker\"},{\"attributes\":{\"bottom_units\":\"screen\",\"fill_alpha\":0.5,\"fill_color\":\"lightgrey\",\"left_units\":\"screen\",\"level\":\"overlay\",\"line_alpha\":1.0,\"line_color\":\"black\",\"line_dash\":[4,4],\"line_width\":2,\"right_units\":\"screen\",\"syncable\":false,\"top_units\":\"screen\"},\"id\":\"1026\",\"type\":\"BoxAnnotation\"},{\"attributes\":{\"axis\":{\"id\":\"1016\"},\"dimension\":1,\"ticker\":null,\"visible\":false},\"id\":\"1019\",\"type\":\"Grid\"},{\"attributes\":{},\"id\":\"1024\",\"type\":\"ResetTool\"},{\"attributes\":{\"data_source\":{\"id\":\"1002\"},\"glyph\":{\"id\":\"1037\"},\"hover_glyph\":null,\"muted_glyph\":null,\"nonselection_glyph\":{\"id\":\"1038\"},\"view\":{\"id\":\"1040\"}},\"id\":\"1039\",\"type\":\"GlyphRenderer\"},{\"attributes\":{\"formatter\":{\"id\":\"1048\"},\"major_label_policy\":{\"id\":\"1047\"},\"ticker\":{\"id\":\"1013\"},\"visible\":false},\"id\":\"1012\",\"type\":\"LinearAxis\"},{\"attributes\":{},\"id\":\"1020\",\"type\":\"PanTool\"},{\"attributes\":{\"axis\":{\"id\":\"1012\"},\"ticker\":null,\"visible\":false},\"id\":\"1015\",\"type\":\"Grid\"},{\"attributes\":{\"fill_alpha\":{\"value\":0.1},\"fill_color\":{\"field\":\"color\"},\"line_alpha\":{\"value\":0.1},\"line_color\":{\"field\":\"color\"},\"size\":{\"value\":5},\"x\":{\"field\":\"x\"},\"y\":{\"field\":\"y\"}},\"id\":\"1038\",\"type\":\"Circle\"},{\"attributes\":{},\"id\":\"1023\",\"type\":\"SaveTool\"},{\"attributes\":{},\"id\":\"1010\",\"type\":\"LinearScale\"},{\"attributes\":{},\"id\":\"1049\",\"type\":\"Selection\"},{\"attributes\":{},\"id\":\"1021\",\"type\":\"WheelZoomTool\"},{\"attributes\":{\"callback\":null,\"tooltips\":[[\"seq_type\",\"@{seq_type}\"],[\"sequence_name\",\"@{sequence_name}\"]]},\"id\":\"1027\",\"type\":\"HoverTool\"},{\"attributes\":{},\"id\":\"1050\",\"type\":\"UnionRenderers\"},{\"attributes\":{},\"id\":\"1047\",\"type\":\"AllLabels\"},{\"attributes\":{\"overlay\":{\"id\":\"1026\"}},\"id\":\"1022\",\"type\":\"BoxZoomTool\"},{\"attributes\":{\"source\":{\"id\":\"1002\"}},\"id\":\"1040\",\"type\":\"CDSView\"},{\"attributes\":{\"active_multi\":null,\"tools\":[{\"id\":\"1020\"},{\"id\":\"1021\"},{\"id\":\"1022\"},{\"id\":\"1023\"},{\"id\":\"1024\"},{\"id\":\"1025\"},{\"id\":\"1027\"}]},\"id\":\"1028\",\"type\":\"Toolbar\"},{\"attributes\":{},\"id\":\"1041\",\"type\":\"Title\"},{\"attributes\":{},\"id\":\"1045\",\"type\":\"BasicTickFormatter\"},{\"attributes\":{},\"id\":\"1004\",\"type\":\"DataRange1d\"},{\"attributes\":{},\"id\":\"1008\",\"type\":\"LinearScale\"},{\"attributes\":{\"fill_alpha\":{\"field\":\"alpha\"},\"fill_color\":{\"field\":\"color\"},\"line_alpha\":{\"field\":\"alpha\"},\"line_color\":{\"field\":\"color\"},\"size\":{\"value\":5},\"x\":{\"field\":\"x\"},\"y\":{\"field\":\"y\"}},\"id\":\"1037\",\"type\":\"Circle\"},{\"attributes\":{},\"id\":\"1025\",\"type\":\"HelpTool\"}],\"root_ids\":[\"1003\"]},\"title\":\"Bokeh Application\",\"version\":\"2.3.2\"}};\n",
              "  var render_items = [{\"docid\":\"ccc8c15c-56d4-487d-a1b8-eb02be2cb532\",\"root_ids\":[\"1003\"],\"roots\":{\"1003\":\"b7ee25b3-9663-49fc-afe8-4a8516ab8757\"}}];\n",
              "  root.Bokeh.embed.embed_items_notebook(docs_json, render_items);\n",
              "\n",
              "  }\n",
              "  if (root.Bokeh !== undefined) {\n",
              "    embed_document(root);\n",
              "  } else {\n",
              "    var attempts = 0;\n",
              "    var timer = setInterval(function(root) {\n",
              "      if (root.Bokeh !== undefined) {\n",
              "        clearInterval(timer);\n",
              "        embed_document(root);\n",
              "      } else {\n",
              "        attempts++;\n",
              "        if (attempts > 100) {\n",
              "          clearInterval(timer);\n",
              "          console.log(\"Bokeh: ERROR: Unable to run BokehJS code because BokehJS library is missing\");\n",
              "        }\n",
              "      }\n",
              "    }, 10, root)\n",
              "  }\n",
              "})(window);"
            ],
            "application/vnd.bokehjs_exec.v0+json": ""
          },
          "metadata": {
            "tags": [],
            "application/vnd.bokehjs_exec.v0+json": {
              "id": "1003"
            }
          }
        }
      ]
    },
    {
      "cell_type": "code",
      "metadata": {
        "colab": {
          "base_uri": "https://localhost:8080/",
          "height": 658
        },
        "id": "AQmo7t_z1m1_",
        "outputId": "6bb8f6f0-c70f-49e2-88c5-6a1136772678"
      },
      "source": [
        "# UMAP of just the purple cluster (df1)\n",
        "cv = CountVectorizer()\n",
        "X1 = cv.fit_transform(df1['kmer_string'].to_list()).toarray()\n",
        "\n",
        "trans = umap.UMAP(n_neighbors=50, random_state=42).fit(X1)\n",
        "umap.plot.points(trans, labels=df1['genus'].values, theme = 'inferno')"
      ],
      "execution_count": null,
      "outputs": [
        {
          "output_type": "execute_result",
          "data": {
            "text/plain": [
              "<matplotlib.axes._subplots.AxesSubplot at 0x7f64f96500d0>"
            ]
          },
          "metadata": {
            "tags": []
          },
          "execution_count": 18
        },
        {
          "output_type": "display_data",
          "data": {
            "image/png": "[encoded data removed]",
            "text/plain": [
              "<Figure size 800x800 with 1 Axes>"
            ]
          },
          "metadata": {
            "tags": []
          }
        }
      ]
    },
    {
      "cell_type": "code",
      "metadata": {
        "colab": {
          "base_uri": "https://localhost:8080/",
          "height": 658
        },
        "id": "3lfK7SM52UKQ",
        "outputId": "9145f7f1-44bd-44d8-e4cd-e3b740cc8be7"
      },
      "source": [
        "# UMAP of just the red cluster (df2)\n",
        "cv = CountVectorizer()\n",
        "X2 = cv.fit_transform(df2['kmer_string'].to_list()).toarray()\n",
        "\n",
        "trans = umap.UMAP(n_neighbors=50, random_state=42).fit(X2)\n",
        "umap.plot.points(trans, labels=df2['genus'].values, theme = 'inferno')"
      ],
      "execution_count": null,
      "outputs": [
        {
          "output_type": "execute_result",
          "data": {
            "text/plain": [
              "<matplotlib.axes._subplots.AxesSubplot at 0x7f64e17a86d0>"
            ]
          },
          "metadata": {
            "tags": []
          },
          "execution_count": 19
        },
        {
          "output_type": "display_data",
          "data": {
            "image/png": "[encoded data removed]",
            "text/plain": [
              "<Figure size 800x800 with 1 Axes>"
            ]
          },
          "metadata": {
            "tags": []
          }
        }
      ]
    },
    {
      "cell_type": "code",
      "metadata": {
        "colab": {
          "base_uri": "https://localhost:8080/"
        },
        "id": "VL4U8Ou_UYDp",
        "outputId": "9c0ed2d2-e729-4635-8124-33e73da8440d"
      },
      "source": [
        "# Naive Bayes Classification Model adapted from Worksheet 6\n",
        "X_train, X_test, y_train, y_test = train_test_split(X, \n",
        "                                                    df.iloc[:, 0].values, \n",
        "                                                    test_size = 0.20, \n",
        "                                                    random_state=42)\n",
        "\n",
        "print(X_train.shape)\n",
        "print(X_test.shape)"
      ],
      "execution_count": null,
      "outputs": [
        {
          "output_type": "stream",
          "text": [
            "(146, 5934)\n",
            "(37, 5934)\n"
          ],
          "name": "stdout"
        }
      ]
    },
    {
      "cell_type": "code",
      "metadata": {
        "colab": {
          "base_uri": "https://localhost:8080/"
        },
        "id": "ALSKwGgmXkzS",
        "outputId": "9210a1d1-0a24-4473-e765-1ccf1ff59fe7"
      },
      "source": [
        "# Results using the Native Bayes Classifier \n",
        "classifier = MultinomialNB(alpha=0.1)\n",
        "classifier.fit(X_train, y_train)\n",
        "\n",
        "y_pred = classifier.predict(X_test)\n",
        "\n",
        "print(\"Confusion matrix\\n\")\n",
        "\n",
        "with pd.option_context('display.max_columns', None):\n",
        "  print(pd.crosstab(pd.Series(y_test, name='Actual'), pd.Series(y_pred, name='Predicted')))\n",
        "\n",
        "def get_metrics(y_test, y_predicted):\n",
        "    accuracy = accuracy_score(y_test, y_predicted)\n",
        "    precision = precision_score(y_test, y_predicted, average='weighted')\n",
        "    recall = recall_score(y_test, y_predicted, average='weighted')\n",
        "    f1 = f1_score(y_test, y_predicted, average='weighted')\n",
        "    return accuracy, precision, recall, f1\n",
        "accuracy, precision, recall, f1 = get_metrics(y_test, y_pred)\n",
        "print(\"\\naccuracy = %.3f \\nprecision = %.3f \\nrecall = %.3f \\nf1 = %.3f\" % (accuracy, precision, recall, f1))"
      ],
      "execution_count": null,
      "outputs": [
        {
          "output_type": "stream",
          "text": [
            "Confusion matrix\n",
            "\n",
            "Predicted          Cyanobium_A  Prochlorococcus  Prochlorococcus_B  \\\n",
            "Actual                                                               \n",
            "Cyanobium_A                  1                0                  0   \n",
            "Prochlorococcus              0                3                  0   \n",
            "Prochlorococcus_B            0                1                 12   \n",
            "Prochlorococcus_C            0                0                  0   \n",
            "Synechococcus_C              0                0                  0   \n",
            "Synechococcus_E              0                0                  0   \n",
            "WH-5701                      0                0                  0   \n",
            "\n",
            "Predicted          Prochlorococcus_C  Synechococcus_C  Synechococcus_E  \\\n",
            "Actual                                                                   \n",
            "Cyanobium_A                        0                0                0   \n",
            "Prochlorococcus                    0                0                0   \n",
            "Prochlorococcus_B                  0                0                0   \n",
            "Prochlorococcus_C                  4                0                1   \n",
            "Synechococcus_C                    0                4                4   \n",
            "Synechococcus_E                    0                2                2   \n",
            "WH-5701                            0                0                1   \n",
            "\n",
            "Predicted          WH-5701  \n",
            "Actual                      \n",
            "Cyanobium_A              0  \n",
            "Prochlorococcus          0  \n",
            "Prochlorococcus_B        0  \n",
            "Prochlorococcus_C        0  \n",
            "Synechococcus_C          1  \n",
            "Synechococcus_E          0  \n",
            "WH-5701                  1  \n",
            "\n",
            "accuracy = 0.730 \n",
            "precision = 0.791 \n",
            "recall = 0.730 \n",
            "f1 = 0.747\n"
          ],
          "name": "stdout"
        }
      ]
    },
    {
      "cell_type": "code",
      "metadata": {
        "colab": {
          "base_uri": "https://localhost:8080/"
        },
        "id": "sOryxVas81Ce",
        "outputId": "9ffa3cdc-8a86-4a19-decf-11e1c5dec3a0"
      },
      "source": [
        "# One-hot encoding and deep-learning model adpated from Worksheet 8\n",
        "import numpy as np\n",
        "import pandas as pd\n",
        "import matplotlib.pyplot as plt\n",
        "import requests\n",
        "import re\n",
        "\n",
        "sequence_url = 'https://raw.githubusercontent.com/rcodipilly/ML-Taxonomy-classification-with-16S/master/cyano_aligned.fasta'\n",
        "\n",
        "sequence_data = re.findall('(>.+)\\n([-ACGTN\\n]+)', requests.get(sequence_url).text)\n",
        "sequences = [s[1].replace('\\n', '').replace('-', 'N').strip() for s in sequence_data]\n",
        "\n",
        "print(len(sequences))\n",
        "sequences[:5]"
      ],
      "execution_count": null,
      "outputs": [
        {
          "output_type": "stream",
          "text": [
            "183\n"
          ],
          "name": "stdout"
        },
        {
          "output_type": "execute_result",
          "data": {
            "text/plain": [
              "['NNNNGAGGTGATCCAGCCGCACCTTCCGGTACGGCTACCTTGTTACGACTTCACCCCAGTCATCAGCCCCACCTTCGGCATCCTCCTCCCTTGCGGGTTGGAGTAACGACTTCGGGCGTGGCCAACTTCCATGGTGTGACGGGCGGTGTGTACAAGGCCCGGGAACGTATTCACCGCAGTNATGCTGACCTGCGATTACTAGCGATTCCTCCTTCACGTAGGCGAGTTGCAGCCTACGATCTGAACTGAGCCACGGTTTATGGGATTTGCTAGCTCTCGCGAGTTTGCTGCCCTTTGTCCGTAGCATTGTAGTACGTGTGTAGCCCAGGATGTAAGGGGCATGATGACTTGACGTCATCCACACCTTCCTCCGGTTTATNNCACCGGCGGTCTCTCTAGAGTGCCCANNACTAAATGCTGGCAACTAAAGACGTGGGTTGCGCTCGTTGCGGGACTTAACCCAACATCTCACGACACGAGCTGACNNNNNNNGACAGCCATGCACCACCTGTCACTGCGTTCCCGAAGNNNNNNNNNNNNNGCACTCCCAAGTTTCCAAGGGATTCGCAGGATGTCAAACCCTGGTAAGGTTCTTCGCGTTGCATCGAATTAAACCACATACTCCACCGCTTGTGCGGGNCCCCCGTCAATTCCTTTGAGTTTCACACTTGCGTGCGTACTCCCCAGGCGGAACACTTAACGCGTTGGCTACGACACCGAGGGGGTCGNNNNNNNNNNNANTTCCCCCGACACCTAGTGTTCATCGTTTACGGCCAGGACTACAGGGGTATCTAATCCCTTTCGCTCCCCTGGCTTTCGNNNNNNNNNTCCATGAGCGTCANGTTATGGCCCAGCAGAGCGCCTTCGCCACTGGTGTTCTTCCCGATATCNTACGCATTTCACCGCTACACCGGGAATTCCCTCTGCCCCTACCACACTCTAGTCTTGTAGTTTCCATTGCTGAAATGGAGTTAAGCTCCACGCTTTAACAACAGACNTTTCAAAACCGCCTGCGGACGCTTTACGCCCAATAATTCCGGATAACGCTTGCCACTCCCGTATTACCGCGGCTGCTGGCACGGAATTAGCCGTGGCTTATTCATCAAGTACCGTCAGATCTTCTNNNTCCNNNNNNNNNNNNNNNTTGATAAAAGAGGTTTACAGCCCAGAGGCCTTCATCCCTCACGCGGCGTTGCTCCGTCAGGCTTTCGCCCATTGCGGAAAATTCCCCACTGCTGCCTCCCGTAGGAGTCTGGGCCGTGTCTCAGTCCCAGTGTGGCTGATCATCCTCTCAGACCAGCTACTGATCGATGCCTTGGTGAGCCCTTACCTCNACCAACTAGCTAATCAGACGCGAGCTCATCCTCAGGCNNNNGAAANTTCATTTNNNNNNNNNNNNNNNCACCTCTCGGCATATGGGGTATTAGCGGCCGTTTCCAGCCGTTATCCCCCTCCTGAGGGCAGATTCNTCACGCGTTACTCACCCGTCCGCNNNNNNNNNNNNNNCNNNNACTAACCCGAAGGTTCGTTCGACTTGCATGTGTTAAGCACGCCGCCAGCGTTCATCNNNNNNNNNNNNNNNNNNNNNNNNNNNNNNNNNNNNNNNNNCTGAGCCAGGATCAAACTCTCCGTTN',\n",
              " 'NNNNGAGGTGATCCAGCCGCACCTTCCGGTACGGCTACCTTGTTACGACTTCACCCCAGTCATCAGCCCCACCTTCGGCGTCCTCCTCCNACAAGGGTTGGAGTAACGACTTCGGGCGTGGCCAACTTCCATGGTGTGACGGGCGGTGTGTACAAGGCCCGGGAACGTATTCACCGCAGTNATGCTGACCTGCGATTACTAGCGATTCCTCCTTCACGTAGGCGAGTTGCAGCCTACGATCTGAACTGAGCCACGGTTTATGGGATTTGCTAGCTCTCGCGAGTTTGCTGCCCTTTGTCCGTAGCATTGTAGTACGTGTGTAGCCCAGGATGTAAGGGGCATGATGACTTGACGTCATCCACACCTTCCTCCGGTTTATNNCACCGGCGGTCTCTCTAGAGTGCCCANNACTTAATGCTGGCAACTAAAGACGTGGGTTGCGCTCGTTGCGGGACTTAACCCAACATCTCACGACACGAGCTGACNNNNNNNGACAGCCATGCACCACCTGTCTCTGCGCTCCCGAAGNNNNNNNNNNNNNGCACTCCCCGATTTCTCAGGGATTCGCAGGATGTCAAACCCTGGTAAGGTTCTTCGCGTTGCATCGAATTAAACCACATACTCCACCGCTTGTGCGGGNCCCCCGTCAATTCCTTTGAGTTTCACACTTGCGTGCGTACTCCCCAGGCGGAACACTTAACGCGTTGGCTACGACACCGAGGGGGTCGNNNNNNNNNNNANTTCCCCCGACACCTAGTGTTCATCGTTTACGGCCAGGACTACAGGGGTATCTAATCCCTTTCGCTCCCCTGGCTTTCGNNNNNNNNNTCCATGAGCGTCANGTTATGGCCCAGCAGAGCGCCTTCGCCACTGGTGTTCTTCCCGATATCNTACGCATTTCACCGCTACACCGGGAATTCCCTCTGCCCCTACCACACTCTAGTCTTGTAGTTTCCATTGCTTAAATGGAGTTGAGCTCCACGCTTTAACAACAGACNTTTCAAGACCGCCTGCGGACGCTTTACGCCCAATAATTCCGGATAACGCTTGCCACTCCCGTATTACCGCGGCTGCTGGCACGGAATTAGCCGTGGCTTATTCCTCAAGTACCGTCAGATCTTCTNNNTCCNNNNNNNNNNNNNNNTTGAGAAAAGAGGTTTACAGCCCAGAGGCCTTCATCCCTCACGCGGCGTTGCTCCGTCAGGCTTTCGCCCATTGCGGAAAATTCCCCACTGCTGCCTCCCGTAGGAGTCTGGGCCGTGTCTCAGTCCCAGTGTGGCTGATCATCCTCTCAGACCAGCTACTGATCGATGCCTTGGTAGGCTCTTACCCCNACCAACTAGCTAATCAGACGCGAGCTCATCCTCAGGCNNNNGAAAACTCATTTNNNNNNNNNNNNNNNCACCTCGCGGCATATGGGGTATTAGCGGCCGTTTCCAGCCGTTATCCCCCTCCTGAGGGCAGATTCNTCACGCGTTACTCACCCGTCCGCNNNNNNNNNNNNNNCNNNNACTCACCCGAAGGTGCGTTCGACTTGCATGTGTTAAGCACGCCGCCAGCGTTCATCNNNNNNNNNNNNNNNNNNNNNNNNNNNNNNNNNNNNNNNNNCTGAGCCAGGATCAAACTCTCCGTTN',\n",
              " 'NNNNGAGGTGATCCAGCCGCACCTTCCGGTACGGCTACCTTGTTACGACTTCACCCCAGTCATCAGCCCCACCTTCGGCGTCCTCCTCCNACAAGGGTTGGAGTAACGACTTCGGGCGTGGCCAACTTCCATGGTGTGACGGGCGGTGTGTACAAGGCCCGGGAACGTATTCACCGCAGTNATGCTGACCTGCGATTACTAGCGATTCCTCCTTCACGTAGGCGAGTTGCAGCCTACGATCTGAACTGAGCCACGGTTTATGGGATTTGCTAGCTCTCGCGAGTTTGCTGCCCTTTGTCCGTAGCATTGTAGTACGTGTGTAGCCCAGGATGTAAGGGGCATGATGACTTGACGTCATCCACACCTTCCTCCGGTTTATNNCACCGGCGGTCTCTCTAGAGTGCCCANNACTTAATGCTGGCAACTAAAGACGTGGGTTGCGCTCGTTGCGGGACTTAACCCAACATCTCACGACACGAGCTGACNNNNNNNGACAGCCATGCACCACCTGTCTCTGCGCTCCCGAAGNNNNNNNNNNNNNGCACTCCCCGATTTCTCAGGGATTCGCAGGATGTCAAACCCTGGTAAGGTTCTTCGCGTTGCATCGAATTAAACCACATACTCCACCGCTTGTGCGGGNCCCCCGTCAATTCCTTTGAGTTTCACACTTGCGTGCGTACTCCCCAGGCGGAACACTTAACGCGTTGGCTACGACACCGAGGGGGTCGNNNNNNNNNNNANTTCCCCCGACACCTAGTGTTCATCGTTTACGGCCAGGACTACAGGGGTATCTAATCCCTTTCGCTCCCCTGGCTTTCGNNNNNNNNNTCCATGAGCGTCANGTTATGGCCCAGCAGAGCGCCTTCGCCACTGGTGTTCTTCCCGATATCNTACGCATTTCACCGCTACACCGGGAATTCCCTCTGCCCCTACCACACTCTAGTCTTGTAGTTTCCATTGCTTAAATGGAGTTGAGCTCCACGCTTTAACAACAGACNTTTCAAGACCGCCTGCGGACGCTTTACGCCCAATAATTCCGGATAACGCTTGCCACTCCCGTATTACCGCGGCTGCTGGCACGGAATTAGCCGTGGCTTATTCCTCAAGTACCGTCAGATCTTCTNNNTCCNNNNNNNNNNNNNNNTTGAGAAAAGAGGTTTACAGCCCAGAGGCCTTCATCCCTCACGCGGCGTTGCTCCGTCAGGCTTTCGCCCATTGCGGAAAATTCCCCACTGCTGCCTCCCGTAGGAGTCTGGGCCGTGTCTCAGTCCCAGTGTGGCTGATCATCCTCTCAGACCAGCTACTGATCGATGCCTTGGTAGGCTCTTACCCCNACCAACTAGCTAATCAGACGCGAGCTCATCCTCAGGCNNNNGAAAACTCATTTNNNNNNNNNNNNNNNCACCTCGCGGCATATGGGGTATTAGCGGCCGTTTCCAGCCGTTATCCCCCTCCTGAGGGCAGATTCNTCACGCGTTACTCACCCGTCCGCNNNNNNNNNNNNNNCNNNNACTCACCCGAAGGTGCGTTCGACTTGCATGTGTTAAGCACGCCGCCAGCGTTCATCNNNNNNNNNNNNNNNNNNNNNNNNNNNNNNNNNNNNNNNNNCTGAGCCAGGATCAAACTCTCCGTTN',\n",
              " 'NNNNNNNNNNNNNNNNNNNNNNNNNNNNNNNNNNCGGCGTGCTTAACACATGCAAGTCGAANNNNNNCGCACCTTCGGNNNNNNNNNNNNGTGAGTGGCGGNACGGGTGAGTAACGCGTGAGAATCTGCCCTCAGGANNNNNNNNNGGGGGATAACGGCTGGAAACGGNNNNNNNNNNNNNCCGCTAATACCCCATATGCCGCGAGGTGNNNNNNNNNNNNNNNAAATGAGTTTTCGCNCTGAGGATGAGCTCGCGTCTGNNNNATTAGCTAGTTGGTGGNGGTAAGAGCCTACCAAGGCATCGATCAGTAGCTGGTCTGAGNNNAGGATGATCAGCCACACTGGGACTGAGACACGGCCCANGACTCCTACGGGAGGCAGCAGTGGGGAATTTTCCGCAATGGGCGAAAGCCTGACGGAGCAACGCCGCGTGAGGGATGAAGGCCTCTGGGCTGTAAACCTCTTTTCTCAAGGAAGAAGATCTGACGGTACTTGAGGAATAAGCCACGGCTAATTCCGTGCCAGCAGCCGCGGTAATACGGGAGTGGCAAGCGTTATCCGGAATTATTGGGCGTAAAGCGTCCGCAGGCGGTCTTGAAAGTCTGTTGTTAAAGCGTGGAGCTCAACTCCATTTAAGCAATGGAAACTACAAGACTAGAGTGTGGTAGGGGCAGAGGGAATTCCCGGTGTAGCGGTGAAATGCGTAGATATCGGGAAGAACACCAGTGGCGAAGGCGCTCTGCTGGGCCATAACTGACGCTCATGGACGAAANNNNNNNNNGCCAGGGGAGCGAAAGGGATTAGATACCCCTGTAGTCCTGGCCGTAAACGATGAACACTAGGTGTCGGGGGAATNNNNNNNCGACCCCCTCGGTGTCGTAGCCAACGCGTTAAGTGTTCCGCCTGGNNNNNNNGGAGTACGCACGCAAGTGTGAAACTCAAAGGAATTGACNNGGGGGCCCGCACAAGCGGTGGAGTATGTGGTTTAATTCGATGCAACGCGAAGAACCTTACCAGGGTTTGACATCCTGCGAATCCCTGAGAAATCGGGGAGTGCNNNNNNNNNNNNNCTTCGGGAGCGCAGAGACAGGTGGTGCATNNNNNGGCTGTCGTCAGCTCGTGTNNNNNNNNNNNNNNNNNNNNCGTGAGATGTTGGGTTAAGTCCCGCAACGAGCGCAACCCACGTCTTTAGTTGCCAGCATTAAGTTGGGCACTCTAGAGANNGACCGCCGGTGATAANNACCGGAGGAAGGTGTGGATGACGTCAAGTCATCATGCCCCTTACATCCTGGGCTACACACGTACNNNNNNTACAATGCTACGGACAAAGGGCAGCAAACTCGCGAGAGCTAGCAAATCCCATAAACCNNNNNNNGTGGCTCAGTTCAGATCGTAGGCTGCAACTCGCCTACGTGAAGGAGGAATNNCGCTAGTAATCGCAGGTCAGCATACTGCGGTGAATACGTTCCCGGGCCTTGTACACACCGCCCGTCACACCATGGAAGTTGGCCACGCCCGAAGTCGTTACTCCAACCCTTGNTGGAGGAGGACGCCGAAGGTGGGGCTGATGACTGGGGTGAAGTCGTAACAAGGTAGCCGTACCGGAAGGTGCGGCTGGATCACCTCCTANNNNN',\n",
              " 'GGAGAGTTTGATCCTGGCTCAGGATGAACGCTGGCGGCGTGCTTAACACATGCAAGTCGAANNNNNNCGCACCTTCGGNNNNNNNNNNNNGTGAGTGGCGGNACGGGTGAGTAACGCGTGAGAATCTGCCCCAAGGANNNNNNNNNGGGGGATAACGGCTGGAAACGGNNNNNNNNNNNNNCCGCTAATACCCCATATGCCGAGAGGTGNNNNNNNNNNNNNNNAAACGAGTATTCGCNCTTGGGATGAGCTCGCGTCTGNNNNATTAGCTAGTTGGTGGNGGTAAGAGCCTACCAAGGCATCGATCAGTAGCTGGTCTGAGNNNAGGATGATCAGCCACACTGGGACTGAGACACGGCCCANGACTCCTACGGGAGGCAGCAGTGGGGAATTTTCCGCAATGGGCGAAAGCCTGACGGAGCAACGCCGCGTGAGGGATGAAGGCCTCTGGGCTGTAAACCTCTTTTCTCAAGGAAGAAGATCTGACGGTACTTGAGGAATAAGCCACGGCTAATTCCGTGCCAGCAGCCGCGGTAATACGGGAGTGGCAAGCGTTATCCGGAATTATTGGGCGTAAAGCGTCCGCAGGCGGCCTTGAAAGTCTGTTGTTAAAGCGTGGAGCTTAACTCCATTTCAGCAATGGAAACTAGAAGGCTAGAGTGTGGTAGGGGCAGAGGGAATTCCCGGTGTAGCGGTGAAATGCGTAGATATCGGGAAGAACACCAGTGGCGAAGGCGCTCTGCTGGGCCATAACTGACGCTCATGGACGAAANNNNNNNNNGCCAGGGGAGCGAAAGGGATTAGATACCCCTGTAGTCCTGGCCGTAAACGATGAACACTAGGTGTCGGGGGAATNNNNNNNCGACCCCCTCGGTGTCGTAGCCAACGCGTTAAGTGTTCCGCCTGGNNNNNNNGGAGTACGCACGCAAGTGTGAAACTCAAAGGAATTGACNNGGGGGCCCGCACAAGCGGTGGAGTATGTGGTTTAATTCGATGCAACGCGAAGAACCTTACCAGGGTTTGACATCCTGCGAATCCCTTGGAAACTTGGGAGTGCNNNNNNNNNNNNNCTTCGGGAGCGCAGAGACAGGTGGTGCATNNNNNGGCTGTCGTCAGCTCGTGTNNNNNNNNNNNNNNNNNNNNCGTGAGATGTTGGGTTAAGTCCCGCAACGAGCGCAACCCACGTCTTTAGTTGCCAGCATTGAGTTGGGCACTCTAGAGANNGACCGCCGGTGATAANNACCGGAGGAAGGTGTGGATGACGTCAAGTCATCATGCCCCTTACATCCTGGGCTACACACGTACNNNNNNTACAATGCTACGGACAAAGGGCAGCAAACTCGCGAGAGCTAGCAAATCCCATAAACCNNNNNNNGTGGCTCAGTTCAGATCGTAGGCTGCAACTCGCCTACGTGAAGGAGGAATNNCGCTAGTAATCGCAGGTCAGCATACTGCGGTGAATACGTTCCCGGGCCTTGTACACACCGCCCGTCACACCATGGAAGTTGGCCACGCCCGAAGTCGTTACTCCAACCCTTGNTGGAGGAGGACGCCGAAGGTGGGGCTGATGACTGGGGTGAAGTCGTAACAAGGTAGCCGTACCGGAAGGTGCGGCTGGATCACCTCCTANNNNN']"
            ]
          },
          "metadata": {
            "tags": []
          },
          "execution_count": 22
        }
      ]
    },
    {
      "cell_type": "code",
      "metadata": {
        "colab": {
          "base_uri": "https://localhost:8080/"
        },
        "id": "wPk2Wo99-Z_v",
        "outputId": "a14679e5-744a-4a48-ef2c-f116cebb3e4d"
      },
      "source": [
        "from sklearn.preprocessing import LabelEncoder, OneHotEncoder\n",
        "\n",
        "# The LabelEncoder encodes a sequence of bases as a sequence of integers.\n",
        "integer_encoder = LabelEncoder()  \n",
        "# The OneHotEncoder converts an array of integers to a sparse matrix where \n",
        "# each row corresponds to one possible value of each feature.\n",
        "one_hot_encoder = OneHotEncoder(categories='auto')   \n",
        "input_features = []\n",
        "\n",
        "for sequence in sequences:\n",
        "  integer_encoded = integer_encoder.fit_transform(list(sequence))\n",
        "  integer_encoded = np.array(integer_encoded).reshape(-1, 1)\n",
        "  one_hot_encoded = one_hot_encoder.fit_transform(integer_encoded)\n",
        "  input_features.append(one_hot_encoded.toarray())\n",
        "\n",
        "np.set_printoptions(threshold=40)\n",
        "input_features = np.stack(input_features)\n",
        "print(\"Example sequence\\n-----------------------\")\n",
        "print('DNA Sequence #1:\\n',sequences[0][:10],'...',sequences[0][-10:])\n",
        "print('One hot encoding of Sequence #1:\\n',input_features[0].T)"
      ],
      "execution_count": null,
      "outputs": [
        {
          "output_type": "stream",
          "text": [
            "Example sequence\n",
            "-----------------------\n",
            "DNA Sequence #1:\n",
            " NNNNGAGGTG ... CTCTCCGTTN\n",
            "One hot encoding of Sequence #1:\n",
            " [[0. 0. 0. ... 0. 0. 0.]\n",
            " [0. 0. 0. ... 0. 0. 0.]\n",
            " [0. 0. 0. ... 0. 0. 0.]\n",
            " [1. 1. 1. ... 0. 0. 1.]\n",
            " [0. 0. 0. ... 1. 1. 0.]]\n"
          ],
          "name": "stdout"
        }
      ]
    },
    {
      "cell_type": "code",
      "metadata": {
        "colab": {
          "base_uri": "https://localhost:8080/",
          "height": 626
        },
        "id": "-P6lq7FaBCcD",
        "outputId": "2b87e327-6064-4a60-cb25-146433822559"
      },
      "source": [
        "sequence_names = [s[0].strip() for s in sequence_data]\n",
        "\n",
        "seq_labels_df = pd.DataFrame(data = {'seq_names': sequence_names}).join(full_df)\n",
        "seq_labels_df"
      ],
      "execution_count": null,
      "outputs": [
        {
          "output_type": "execute_result",
          "data": {
            "text/html": [
              "<div>\n",
              "<style scoped>\n",
              "    .dataframe tbody tr th:only-of-type {\n",
              "        vertical-align: middle;\n",
              "    }\n",
              "\n",
              "    .dataframe tbody tr th {\n",
              "        vertical-align: top;\n",
              "    }\n",
              "\n",
              "    .dataframe thead th {\n",
              "        text-align: right;\n",
              "    }\n",
              "</style>\n",
              "<table border=\"1\" class=\"dataframe\">\n",
              "  <thead>\n",
              "    <tr style=\"text-align: right;\">\n",
              "      <th></th>\n",
              "      <th>seq_names</th>\n",
              "      <th>Unnamed: 0</th>\n",
              "      <th>sequence_name</th>\n",
              "      <th>domain</th>\n",
              "      <th>phylum</th>\n",
              "      <th>class</th>\n",
              "      <th>order</th>\n",
              "      <th>family</th>\n",
              "      <th>genus</th>\n",
              "      <th>species</th>\n",
              "      <th>location</th>\n",
              "      <th>ssu_length</th>\n",
              "      <th>contig_length</th>\n",
              "      <th>sequence</th>\n",
              "      <th>seq_type</th>\n",
              "    </tr>\n",
              "  </thead>\n",
              "  <tbody>\n",
              "    <tr>\n",
              "      <th>0</th>\n",
              "      <td>&gt;RS_GCF_002252665.1~NZ_NQKZ01000036.1</td>\n",
              "      <td>363497</td>\n",
              "      <td>&gt;RS_GCF_002252665.1~NZ_NQKZ01000036.1</td>\n",
              "      <td>Bacteria</td>\n",
              "      <td>Cyanobacteria</td>\n",
              "      <td>Cyanobacteriia</td>\n",
              "      <td>PCC-6307</td>\n",
              "      <td>Cyanobiaceae</td>\n",
              "      <td>Cyanobium_A</td>\n",
              "      <td>Cyanobium_A sp002252665</td>\n",
              "      <td>[location=4190..5670]</td>\n",
              "      <td>[ssu_len=1480]</td>\n",
              "      <td>[contig_len=6120]</td>\n",
              "      <td>GAGGTGATCCAGCCGCACCTTCCGGTACGGCTACCTTGTTACGACT...</td>\n",
              "      <td>True</td>\n",
              "    </tr>\n",
              "    <tr>\n",
              "      <th>1</th>\n",
              "      <td>&gt;RS_GCF_900088535.1~NZ_LT578417.1</td>\n",
              "      <td>365444</td>\n",
              "      <td>&gt;RS_GCF_900088535.1~NZ_LT578417.1</td>\n",
              "      <td>Bacteria</td>\n",
              "      <td>Cyanobacteria</td>\n",
              "      <td>Cyanobacteriia</td>\n",
              "      <td>PCC-6307</td>\n",
              "      <td>Cyanobiaceae</td>\n",
              "      <td>Cyanobium_A</td>\n",
              "      <td>Cyanobium_A sp900088535</td>\n",
              "      <td>[location=1568415..1569895]</td>\n",
              "      <td>[ssu_len=1480]</td>\n",
              "      <td>[contig_len=3021545]</td>\n",
              "      <td>GAGGTGATCCAGCCGCACCTTCCGGTACGGCTACCTTGTTACGACT...</td>\n",
              "      <td>True</td>\n",
              "    </tr>\n",
              "    <tr>\n",
              "      <th>2</th>\n",
              "      <td>&gt;RS_GCF_900088535.1~NZ_LT578417.1-#2</td>\n",
              "      <td>365445</td>\n",
              "      <td>&gt;RS_GCF_900088535.1~NZ_LT578417.1-#2</td>\n",
              "      <td>Bacteria</td>\n",
              "      <td>Cyanobacteria</td>\n",
              "      <td>Cyanobacteriia</td>\n",
              "      <td>PCC-6307</td>\n",
              "      <td>Cyanobiaceae</td>\n",
              "      <td>Cyanobium_A</td>\n",
              "      <td>Cyanobium_A sp900088535</td>\n",
              "      <td>[location=2822132..2823612]</td>\n",
              "      <td>[ssu_len=1480]</td>\n",
              "      <td>[contig_len=3021545]</td>\n",
              "      <td>GAGGTGATCCAGCCGCACCTTCCGGTACGGCTACCTTGTTACGACT...</td>\n",
              "      <td>True</td>\n",
              "    </tr>\n",
              "    <tr>\n",
              "      <th>3</th>\n",
              "      <td>&gt;RS_GCF_900088535.1~NZ_LT578417.1-#3</td>\n",
              "      <td>365446</td>\n",
              "      <td>&gt;RS_GCF_900088535.1~NZ_LT578417.1-#3</td>\n",
              "      <td>Bacteria</td>\n",
              "      <td>Cyanobacteria</td>\n",
              "      <td>Cyanobacteriia</td>\n",
              "      <td>PCC-6307</td>\n",
              "      <td>Cyanobiaceae</td>\n",
              "      <td>Cyanobium_A</td>\n",
              "      <td>Cyanobium_A sp900088535</td>\n",
              "      <td>[location=1..1447]</td>\n",
              "      <td>[ssu_len=1446]</td>\n",
              "      <td>[contig_len=3021545]</td>\n",
              "      <td>CGGCGTGCTTAACACATGCAAGTCGAACGCACCTTCGGGTGAGTGG...</td>\n",
              "      <td>False</td>\n",
              "    </tr>\n",
              "    <tr>\n",
              "      <th>4</th>\n",
              "      <td>&gt;RS_GCF_000155635.1~NZ_DS990556.1</td>\n",
              "      <td>368404</td>\n",
              "      <td>&gt;RS_GCF_000155635.1~NZ_DS990556.1</td>\n",
              "      <td>Bacteria</td>\n",
              "      <td>Cyanobacteria</td>\n",
              "      <td>Cyanobacteriia</td>\n",
              "      <td>PCC-6307</td>\n",
              "      <td>Cyanobiaceae</td>\n",
              "      <td>Cyanobium_A</td>\n",
              "      <td>Cyanobium_A sp000155635</td>\n",
              "      <td>[location=2362934..2364414]</td>\n",
              "      <td>[ssu_len=1480]</td>\n",
              "      <td>[contig_len=2832412]</td>\n",
              "      <td>GGAGAGTTTGATCCTGGCTCAGGATGAACGCTGGCGGCGTGCTTAA...</td>\n",
              "      <td>False</td>\n",
              "    </tr>\n",
              "    <tr>\n",
              "      <th>...</th>\n",
              "      <td>...</td>\n",
              "      <td>...</td>\n",
              "      <td>...</td>\n",
              "      <td>...</td>\n",
              "      <td>...</td>\n",
              "      <td>...</td>\n",
              "      <td>...</td>\n",
              "      <td>...</td>\n",
              "      <td>...</td>\n",
              "      <td>...</td>\n",
              "      <td>...</td>\n",
              "      <td>...</td>\n",
              "      <td>...</td>\n",
              "      <td>...</td>\n",
              "      <td>...</td>\n",
              "    </tr>\n",
              "    <tr>\n",
              "      <th>178</th>\n",
              "      <td>&gt;RS_GCF_000153045.1~NZ_CH724159.1</td>\n",
              "      <td>359903</td>\n",
              "      <td>&gt;RS_GCF_000153045.1~NZ_CH724159.1</td>\n",
              "      <td>Bacteria</td>\n",
              "      <td>Cyanobacteria</td>\n",
              "      <td>Cyanobacteriia</td>\n",
              "      <td>PCC-6307</td>\n",
              "      <td>Cyanobiaceae</td>\n",
              "      <td>WH-5701</td>\n",
              "      <td>WH-5701 sp000153045</td>\n",
              "      <td>[location=574..2054]</td>\n",
              "      <td>[ssu_len=1480]</td>\n",
              "      <td>[contig_len=1792002]</td>\n",
              "      <td>GGAGAGTTTGATCCTGGCTCAGGATGAACGCTGGCGGCGTGCTTAA...</td>\n",
              "      <td>False</td>\n",
              "    </tr>\n",
              "    <tr>\n",
              "      <th>179</th>\n",
              "      <td>&gt;RS_GCF_000153045.1~NZ_CH724160.1-#2</td>\n",
              "      <td>359904</td>\n",
              "      <td>&gt;RS_GCF_000153045.1~NZ_CH724160.1-#2</td>\n",
              "      <td>Bacteria</td>\n",
              "      <td>Cyanobacteria</td>\n",
              "      <td>Cyanobacteriia</td>\n",
              "      <td>PCC-6307</td>\n",
              "      <td>Cyanobiaceae</td>\n",
              "      <td>WH-5701</td>\n",
              "      <td>WH-5701 sp000153045</td>\n",
              "      <td>[location=1818..3298]</td>\n",
              "      <td>[ssu_len=1480]</td>\n",
              "      <td>[contig_len=1068361]</td>\n",
              "      <td>GAGGTGATCCAGCCGCACCTTCCGGTACGGCTACCTTGTTACGACT...</td>\n",
              "      <td>True</td>\n",
              "    </tr>\n",
              "    <tr>\n",
              "      <th>180</th>\n",
              "      <td>&gt;RS_GCF_002252625.1~NZ_NQKW01000044.1</td>\n",
              "      <td>368983</td>\n",
              "      <td>&gt;RS_GCF_002252625.1~NZ_NQKW01000044.1</td>\n",
              "      <td>Bacteria</td>\n",
              "      <td>Cyanobacteria</td>\n",
              "      <td>Cyanobacteriia</td>\n",
              "      <td>PCC-6307</td>\n",
              "      <td>Cyanobiaceae</td>\n",
              "      <td>WH-5701</td>\n",
              "      <td>WH-5701 sp002252625</td>\n",
              "      <td>[location=4067..5547]</td>\n",
              "      <td>[ssu_len=1480]</td>\n",
              "      <td>[contig_len=6258]</td>\n",
              "      <td>GAGGTGATCCAGCCGCACCTTCCGGTACGGCTACCTTGTTACGACT...</td>\n",
              "      <td>True</td>\n",
              "    </tr>\n",
              "    <tr>\n",
              "      <th>181</th>\n",
              "      <td>&gt;RS_GCF_001885215.1~NZ_CP018091.1-#2</td>\n",
              "      <td>373396</td>\n",
              "      <td>&gt;RS_GCF_001885215.1~NZ_CP018091.1-#2</td>\n",
              "      <td>Bacteria</td>\n",
              "      <td>Cyanobacteria</td>\n",
              "      <td>Cyanobacteriia</td>\n",
              "      <td>PCC-6307</td>\n",
              "      <td>Cyanobiaceae</td>\n",
              "      <td>WH-5701</td>\n",
              "      <td>WH-5701 sp001885215</td>\n",
              "      <td>[location=800674..802154]</td>\n",
              "      <td>[ssu_len=1480]</td>\n",
              "      <td>[contig_len=2750634]</td>\n",
              "      <td>GAGGTGATCCAGCCGCACCTTCCGGTACGGCTACCTTGTTACGACT...</td>\n",
              "      <td>True</td>\n",
              "    </tr>\n",
              "    <tr>\n",
              "      <th>182</th>\n",
              "      <td>&gt;RS_GCF_001885215.1~NZ_CP018091.1</td>\n",
              "      <td>373397</td>\n",
              "      <td>&gt;RS_GCF_001885215.1~NZ_CP018091.1</td>\n",
              "      <td>Bacteria</td>\n",
              "      <td>Cyanobacteria</td>\n",
              "      <td>Cyanobacteriia</td>\n",
              "      <td>PCC-6307</td>\n",
              "      <td>Cyanobiaceae</td>\n",
              "      <td>WH-5701</td>\n",
              "      <td>WH-5701 sp001885215</td>\n",
              "      <td>[location=1802586..1804065]</td>\n",
              "      <td>[ssu_len=1479]</td>\n",
              "      <td>[contig_len=2750634]</td>\n",
              "      <td>GGAGAGTTTGATCCTGGCTCAGGATGAACGCTGGCGGCGTGCTTAA...</td>\n",
              "      <td>False</td>\n",
              "    </tr>\n",
              "  </tbody>\n",
              "</table>\n",
              "<p>183 rows × 15 columns</p>\n",
              "</div>"
            ],
            "text/plain": [
              "                                 seq_names  ...  seq_type\n",
              "0    >RS_GCF_002252665.1~NZ_NQKZ01000036.1  ...      True\n",
              "1        >RS_GCF_900088535.1~NZ_LT578417.1  ...      True\n",
              "2     >RS_GCF_900088535.1~NZ_LT578417.1-#2  ...      True\n",
              "3     >RS_GCF_900088535.1~NZ_LT578417.1-#3  ...     False\n",
              "4        >RS_GCF_000155635.1~NZ_DS990556.1  ...     False\n",
              "..                                     ...  ...       ...\n",
              "178      >RS_GCF_000153045.1~NZ_CH724159.1  ...     False\n",
              "179   >RS_GCF_000153045.1~NZ_CH724160.1-#2  ...      True\n",
              "180  >RS_GCF_002252625.1~NZ_NQKW01000044.1  ...      True\n",
              "181   >RS_GCF_001885215.1~NZ_CP018091.1-#2  ...      True\n",
              "182      >RS_GCF_001885215.1~NZ_CP018091.1  ...     False\n",
              "\n",
              "[183 rows x 15 columns]"
            ]
          },
          "metadata": {
            "tags": []
          },
          "execution_count": 24
        }
      ]
    },
    {
      "cell_type": "code",
      "metadata": {
        "colab": {
          "base_uri": "https://localhost:8080/"
        },
        "id": "FMUC65zRBpOL",
        "outputId": "649bc12f-abcb-4a4a-d828-a173d2864ebd"
      },
      "source": [
        "(sequence_names == full_df.sequence_name).unique()"
      ],
      "execution_count": null,
      "outputs": [
        {
          "output_type": "execute_result",
          "data": {
            "text/plain": [
              "array([ True])"
            ]
          },
          "metadata": {
            "tags": []
          },
          "execution_count": 25
        }
      ]
    },
    {
      "cell_type": "code",
      "metadata": {
        "colab": {
          "base_uri": "https://localhost:8080/"
        },
        "id": "oVVNHthcB6ko",
        "outputId": "1f06477a-7357-417f-fd3e-a80a4b30a41e"
      },
      "source": [
        "(seq_labels_df.genus == full_df.genus).unique()"
      ],
      "execution_count": null,
      "outputs": [
        {
          "output_type": "execute_result",
          "data": {
            "text/plain": [
              "array([ True])"
            ]
          },
          "metadata": {
            "tags": []
          },
          "execution_count": 26
        }
      ]
    },
    {
      "cell_type": "code",
      "metadata": {
        "colab": {
          "base_uri": "https://localhost:8080/"
        },
        "id": "8xeEsQvP_3g2",
        "outputId": "deaa2eaf-783c-4df9-b713-2918cc3cff49"
      },
      "source": [
        "labels = list(full_df.genus)\n",
        "\n",
        "one_hot_encoder = OneHotEncoder(categories='auto')\n",
        "labels = np.array(labels).reshape(-1, 1)\n",
        "input_labels = one_hot_encoder.fit_transform(labels).toarray()\n",
        "\n",
        "print('Labels:\\n',labels.T)\n",
        "print('One-hot encoded labels:\\n',input_labels.T)"
      ],
      "execution_count": null,
      "outputs": [
        {
          "output_type": "stream",
          "text": [
            "Labels:\n",
            " [['Cyanobium_A' 'Cyanobium_A' 'Cyanobium_A' ... 'WH-5701' 'WH-5701'\n",
            "  'WH-5701']]\n",
            "One-hot encoded labels:\n",
            " [[1. 1. 1. ... 0. 0. 0.]\n",
            " [0. 0. 0. ... 0. 0. 0.]\n",
            " [0. 0. 0. ... 0. 0. 0.]\n",
            " ...\n",
            " [0. 0. 0. ... 0. 0. 0.]\n",
            " [0. 0. 0. ... 0. 0. 0.]\n",
            " [0. 0. 0. ... 1. 1. 1.]]\n"
          ],
          "name": "stdout"
        }
      ]
    },
    {
      "cell_type": "code",
      "metadata": {
        "id": "lBEqnobHCH1T"
      },
      "source": [
        "from sklearn.model_selection import train_test_split\n",
        "\n",
        "train_features, test_features, train_labels, test_labels = train_test_split(\n",
        "    input_features, input_labels, test_size=0.25, random_state=42)"
      ],
      "execution_count": null,
      "outputs": []
    },
    {
      "cell_type": "code",
      "metadata": {
        "colab": {
          "base_uri": "https://localhost:8080/"
        },
        "id": "_U-reVvSEBKB",
        "outputId": "4857d02e-95d5-452a-b488-f836956407c2"
      },
      "source": [
        "train_features.shape"
      ],
      "execution_count": null,
      "outputs": [
        {
          "output_type": "execute_result",
          "data": {
            "text/plain": [
              "(137, 1634, 5)"
            ]
          },
          "metadata": {
            "tags": []
          },
          "execution_count": 29
        }
      ]
    },
    {
      "cell_type": "code",
      "metadata": {
        "colab": {
          "base_uri": "https://localhost:8080/"
        },
        "id": "xhLX5ntOCSwm",
        "outputId": "4c14fe2a-b554-4fe0-dc63-22c2429811cf"
      },
      "source": [
        "from tensorflow.keras.layers import Conv1D, Dense, MaxPooling1D, Flatten\n",
        "from tensorflow.keras.models import Sequential\n",
        "\n",
        "print('build_model input_shape:',train_features.shape[1], ' by ' , 5)\n",
        "\n",
        "model = Sequential()\n",
        "model.add(Conv1D(filters=32, kernel_size=12, \n",
        "                 input_shape=(train_features.shape[1], 5)))\n",
        "model.add(MaxPooling1D(pool_size=4))\n",
        "model.add(Flatten())\n",
        "model.add(Dense(20, activation='relu'))\n",
        "model.add(Dense(7, activation='softmax'))\n",
        "\n",
        "model.compile(loss='binary_crossentropy', optimizer='adam', \n",
        "              metrics=['binary_accuracy'])\n",
        "model.summary()"
      ],
      "execution_count": null,
      "outputs": [
        {
          "output_type": "stream",
          "text": [
            "build_model input_shape: 1634  by  5\n",
            "Model: \"sequential\"\n",
            "_________________________________________________________________\n",
            "Layer (type)                 Output Shape              Param #   \n",
            "=================================================================\n",
            "conv1d (Conv1D)              (None, 1623, 32)          1952      \n",
            "_________________________________________________________________\n",
            "max_pooling1d (MaxPooling1D) (None, 405, 32)           0         \n",
            "_________________________________________________________________\n",
            "flatten (Flatten)            (None, 12960)             0         \n",
            "_________________________________________________________________\n",
            "dense (Dense)                (None, 20)                259220    \n",
            "_________________________________________________________________\n",
            "dense_1 (Dense)              (None, 7)                 147       \n",
            "=================================================================\n",
            "Total params: 261,319\n",
            "Trainable params: 261,319\n",
            "Non-trainable params: 0\n",
            "_________________________________________________________________\n"
          ],
          "name": "stdout"
        }
      ]
    },
    {
      "cell_type": "code",
      "metadata": {
        "colab": {
          "base_uri": "https://localhost:8080/"
        },
        "id": "cIqlcCmQDab3",
        "outputId": "d4e35ce4-b7c8-4bfb-87c3-ec0286164667"
      },
      "source": [
        "predicted_labels = model.predict(np.stack(test_features))\n",
        "predicted_labels\n",
        "\n",
        "with pd.option_context('display.max_columns', None):\n",
        "  print(pd.crosstab(pd.Series(np.argmax(test_labels, axis=1), name='Actual'),\n",
        "                    pd.Series(np.argmax(predicted_labels, axis=1), name='Predicted')))"
      ],
      "execution_count": null,
      "outputs": [
        {
          "output_type": "stream",
          "text": [
            "WARNING:tensorflow:6 out of the last 11 calls to <function Model.make_predict_function.<locals>.predict_function at 0x7f227ed50710> triggered tf.function retracing. Tracing is expensive and the excessive number of tracings could be due to (1) creating @tf.function repeatedly in a loop, (2) passing tensors with different shapes, (3) passing Python objects instead of tensors. For (1), please define your @tf.function outside of the loop. For (2), @tf.function has experimental_relax_shapes=True option that relaxes argument shapes that can avoid unnecessary retracing. For (3), please refer to https://www.tensorflow.org/guide/function#controlling_retracing and https://www.tensorflow.org/api_docs/python/tf/function for  more details.\n",
            "Predicted  2  3   5\n",
            "Actual             \n",
            "0          1  0   0\n",
            "1          3  0   0\n",
            "2          4  0  12\n",
            "3          4  0   3\n",
            "4          3  2   6\n",
            "5          3  1   2\n",
            "6          0  1   1\n"
          ],
          "name": "stdout"
        }
      ]
    },
    {
      "cell_type": "code",
      "metadata": {
        "colab": {
          "base_uri": "https://localhost:8080/",
          "height": 297
        },
        "id": "-vtqQ5TZIHzV",
        "outputId": "d8736330-b3e3-4c5c-beaf-243bfe0f1517"
      },
      "source": [
        "# Confusion matrix for one-hot encoding/deep-learning model\n",
        "df = pd.crosstab(pd.Series(np.argmax(test_labels, axis=1), name='Actual'),\n",
        "                 pd.Series(np.argmax(predicted_labels, axis=1), name='Predicted'))\n",
        "\n",
        "df.reindex(index=df.index, columns=range(7), fill_value=0)"
      ],
      "execution_count": null,
      "outputs": [
        {
          "output_type": "execute_result",
          "data": {
            "text/html": [
              "<div>\n",
              "<style scoped>\n",
              "    .dataframe tbody tr th:only-of-type {\n",
              "        vertical-align: middle;\n",
              "    }\n",
              "\n",
              "    .dataframe tbody tr th {\n",
              "        vertical-align: top;\n",
              "    }\n",
              "\n",
              "    .dataframe thead th {\n",
              "        text-align: right;\n",
              "    }\n",
              "</style>\n",
              "<table border=\"1\" class=\"dataframe\">\n",
              "  <thead>\n",
              "    <tr style=\"text-align: right;\">\n",
              "      <th>Predicted</th>\n",
              "      <th>0</th>\n",
              "      <th>1</th>\n",
              "      <th>2</th>\n",
              "      <th>3</th>\n",
              "      <th>4</th>\n",
              "      <th>5</th>\n",
              "      <th>6</th>\n",
              "    </tr>\n",
              "    <tr>\n",
              "      <th>Actual</th>\n",
              "      <th></th>\n",
              "      <th></th>\n",
              "      <th></th>\n",
              "      <th></th>\n",
              "      <th></th>\n",
              "      <th></th>\n",
              "      <th></th>\n",
              "    </tr>\n",
              "  </thead>\n",
              "  <tbody>\n",
              "    <tr>\n",
              "      <th>0</th>\n",
              "      <td>0</td>\n",
              "      <td>0</td>\n",
              "      <td>1</td>\n",
              "      <td>0</td>\n",
              "      <td>0</td>\n",
              "      <td>0</td>\n",
              "      <td>0</td>\n",
              "    </tr>\n",
              "    <tr>\n",
              "      <th>1</th>\n",
              "      <td>0</td>\n",
              "      <td>0</td>\n",
              "      <td>3</td>\n",
              "      <td>0</td>\n",
              "      <td>0</td>\n",
              "      <td>0</td>\n",
              "      <td>0</td>\n",
              "    </tr>\n",
              "    <tr>\n",
              "      <th>2</th>\n",
              "      <td>0</td>\n",
              "      <td>0</td>\n",
              "      <td>4</td>\n",
              "      <td>0</td>\n",
              "      <td>0</td>\n",
              "      <td>12</td>\n",
              "      <td>0</td>\n",
              "    </tr>\n",
              "    <tr>\n",
              "      <th>3</th>\n",
              "      <td>0</td>\n",
              "      <td>0</td>\n",
              "      <td>4</td>\n",
              "      <td>0</td>\n",
              "      <td>0</td>\n",
              "      <td>3</td>\n",
              "      <td>0</td>\n",
              "    </tr>\n",
              "    <tr>\n",
              "      <th>4</th>\n",
              "      <td>0</td>\n",
              "      <td>0</td>\n",
              "      <td>3</td>\n",
              "      <td>2</td>\n",
              "      <td>0</td>\n",
              "      <td>6</td>\n",
              "      <td>0</td>\n",
              "    </tr>\n",
              "    <tr>\n",
              "      <th>5</th>\n",
              "      <td>0</td>\n",
              "      <td>0</td>\n",
              "      <td>3</td>\n",
              "      <td>1</td>\n",
              "      <td>0</td>\n",
              "      <td>2</td>\n",
              "      <td>0</td>\n",
              "    </tr>\n",
              "    <tr>\n",
              "      <th>6</th>\n",
              "      <td>0</td>\n",
              "      <td>0</td>\n",
              "      <td>0</td>\n",
              "      <td>1</td>\n",
              "      <td>0</td>\n",
              "      <td>1</td>\n",
              "      <td>0</td>\n",
              "    </tr>\n",
              "  </tbody>\n",
              "</table>\n",
              "</div>"
            ],
            "text/plain": [
              "Predicted  0  1  2  3  4   5  6\n",
              "Actual                         \n",
              "0          0  0  1  0  0   0  0\n",
              "1          0  0  3  0  0   0  0\n",
              "2          0  0  4  0  0  12  0\n",
              "3          0  0  4  0  0   3  0\n",
              "4          0  0  3  2  0   6  0\n",
              "5          0  0  3  1  0   2  0\n",
              "6          0  0  0  1  0   1  0"
            ]
          },
          "metadata": {
            "tags": []
          },
          "execution_count": 192
        }
      ]
    }
  ]
}